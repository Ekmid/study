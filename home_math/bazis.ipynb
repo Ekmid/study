{
 "cells": [
  {
   "cell_type": "code",
   "execution_count": 14,
   "metadata": {},
   "outputs": [],
   "source": [
    "import numpy as np\n",
    "\n",
    "class Matrix:\n",
    "    def __init__(self, linear_hull):\n",
    "        self.linear_hull = linear_hull\n",
    "    \n",
    "    def gram_schmidt_orthogonalization(self):\n",
    "        basis = []\n",
    "        for i in range(len(self.linear_hull)):\n",
    "            vector = self.linear_hull[i]\n",
    "            for j in range(i):\n",
    "                projection = np.dot(self.linear_hull[i], basis[j]) / np.dot(basis[j], basis[j])\n",
    "                vector = vector - projection * basis[j]\n",
    "            if vector.any():\n",
    "                basis.append(vector)\n",
    "        normalized_basis = []\n",
    "        for v in basis:\n",
    "            normalized_basis.append(v / np.linalg.norm(v))\n",
    "        return normalized_basis"
   ]
  },
  {
   "cell_type": "code",
   "execution_count": 18,
   "metadata": {},
   "outputs": [
    {
     "name": "stdout",
     "output_type": "stream",
     "text": [
      "Векторы базиса:\n",
      "[0.70710678 0.70710678]\n",
      "[ 0.70710678 -0.70710678]\n"
     ]
    }
   ],
   "source": [
    "linear_hull = [np.array([1, 1]), np.array([1, 0])]\n",
    "matrix = Matrix(linear_hull)\n",
    "orthogonal_basis = matrix.gram_schmidt_orthogonalization()\n",
    "print(\"Векторы базиса:\")\n",
    "for vector in orthogonal_basis:\n",
    "    print(vector)"
   ]
  }
 ],
 "metadata": {
  "kernelspec": {
   "display_name": "Python 3",
   "language": "python",
   "name": "python3"
  },
  "language_info": {
   "codemirror_mode": {
    "name": "ipython",
    "version": 3
   },
   "file_extension": ".py",
   "mimetype": "text/x-python",
   "name": "python",
   "nbconvert_exporter": "python",
   "pygments_lexer": "ipython3",
   "version": "3.11.5"
  },
  "orig_nbformat": 4
 },
 "nbformat": 4,
 "nbformat_minor": 2
}

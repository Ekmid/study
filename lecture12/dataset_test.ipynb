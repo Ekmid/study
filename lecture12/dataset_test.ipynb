{
 "cells": [
  {
   "cell_type": "code",
   "execution_count": 23,
   "metadata": {},
   "outputs": [
    {
     "name": "stdout",
     "output_type": "stream",
     "text": [
      "Note: you may need to restart the kernel to use updated packages.\n"
     ]
    }
   ],
   "source": [
    "%pip install -q pandas matplotlib\n",
    "import pandas as pd\n",
    "import matplotlib as mpl"
   ]
  },
  {
   "cell_type": "code",
   "execution_count": 24,
   "metadata": {},
   "outputs": [
    {
     "data": {
      "text/plain": [
       "<bound method DataFrame.info of         device_id device_type             datetime  ev_type adv_type  \\\n",
       "0          100001     android  2019-03-01 15:58:02        0    multi   \n",
       "1          100001     android  2019-03-01 17:13:53        0    multi   \n",
       "2          100002     android  2019-03-01 23:13:25        0    multi   \n",
       "3          100002     android  2019-03-01 23:25:06        0    multi   \n",
       "4          100003     android  2019-03-01 15:27:53        0    multi   \n",
       "...           ...         ...                  ...      ...      ...   \n",
       "265398     287154     android  2019-03-08 16:23:09        0    video   \n",
       "265399     287155     android  2019-03-08 15:09:58        0    video   \n",
       "265400     287156     android  2019-03-08 18:13:27        0    video   \n",
       "265401     287157     android  2019-03-08 15:48:19        0    video   \n",
       "265402     287158     android  2019-03-08 15:17:29        0    video   \n",
       "\n",
       "        region_id  age  gender  \n",
       "0               2   14       2  \n",
       "1               2   14       2  \n",
       "2               2    0       0  \n",
       "3               2    0       0  \n",
       "4               1    0       0  \n",
       "...           ...  ...     ...  \n",
       "265398          2   31       1  \n",
       "265399          1   52       1  \n",
       "265400          1   20       1  \n",
       "265401          1   25       1  \n",
       "265402          2   29       1  \n",
       "\n",
       "[265403 rows x 8 columns]>"
      ]
     },
     "execution_count": 24,
     "metadata": {},
     "output_type": "execute_result"
    }
   ],
   "source": [
    "data = pd.read_csv('python_task_dataset.csv')\n",
    "data.info"
   ]
  },
  {
   "cell_type": "code",
   "execution_count": 25,
   "metadata": {},
   "outputs": [
    {
     "name": "stdout",
     "output_type": "stream",
     "text": [
      "0.00954 0.01644\n"
     ]
    }
   ],
   "source": [
    "device_evtype = data.groupby('device_type')['ev_type'].sum()\n",
    "android = device_evtype['android']/data[\"device_type\"].value_counts()['android']\n",
    "ios = device_evtype['ios']/data[\"device_type\"].value_counts()['ios']\n",
    "print(round(ios, 5), round(android, 5))"
   ]
  },
  {
   "cell_type": "code",
   "execution_count": 26,
   "metadata": {},
   "outputs": [],
   "source": [
    "def t(r: pd.Series):\n",
    "    res_1 = 0\n",
    "    res_0 = 0\n",
    "    for x in r:\n",
    "        if x == 1:\n",
    "            res_1 += 1\n",
    "            continue\n",
    "        res_0 += 1\n",
    "    return res_1/res_0"
   ]
  },
  {
   "cell_type": "code",
   "execution_count": 27,
   "metadata": {},
   "outputs": [
    {
     "name": "stderr",
     "output_type": "stream",
     "text": [
      "C:\\Users\\Мирославик\\AppData\\Local\\Temp\\ipykernel_4552\\1655596775.py:1: FutureWarning: The provided callable <built-in function min> is currently using SeriesGroupBy.min. In a future version of pandas, the provided callable will be used directly. To keep current behavior pass the string \"min\" instead.\n",
      "  data.groupby(\"region_id\").agg({\"ev_type\": t, \"region_id\": min}).plot(x=\"region_id\", kind=\"bar\")\n"
     ]
    },
    {
     "data": {
      "text/plain": [
       "<Axes: xlabel='region_id'>"
      ]
     },
     "execution_count": 27,
     "metadata": {},
     "output_type": "execute_result"
    },
    {
     "data": {
      "image/png": "[encoded data removed]",
      "text/plain": [
       "<Figure size 640x480 with 1 Axes>"
      ]
     },
     "metadata": {},
     "output_type": "display_data"
    }
   ],
   "source": [
    "data.groupby(\"region_id\").agg({\"ev_type\": t, \"region_id\": min}).plot(x=\"region_id\", kind=\"bar\")"
   ]
  }
 ],
 "metadata": {
  "kernelspec": {
   "display_name": "Python 3",
   "language": "python",
   "name": "python3"
  },
  "language_info": {
   "codemirror_mode": {
    "name": "ipython",
    "version": 3
   },
   "file_extension": ".py",
   "mimetype": "text/x-python",
   "name": "python",
   "nbconvert_exporter": "python",
   "pygments_lexer": "ipython3",
   "version": "3.11.6"
  }
 },
 "nbformat": 4,
 "nbformat_minor": 2
}

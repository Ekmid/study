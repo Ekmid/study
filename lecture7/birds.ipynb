{
 "cells": [
  {
   "cell_type": "code",
   "execution_count": 71,
   "metadata": {},
   "outputs": [],
   "source": [
    "class MixinFlyable:\n",
    "    wings_len = 12.5\n",
    "\n",
    "    def fly(self):\n",
    "        print('I fly')\n",
    "\n",
    "class MixinWalkable:\n",
    "    def walk(self):\n",
    "        print('I walk')\n",
    "\n",
    "class MixinSwimable:\n",
    "    def swim(self):\n",
    "        print('I swim')\n",
    "\n",
    "class MixinTalkable:\n",
    "    def talk(self):\n",
    "        print('I talk')"
   ]
  },
  {
   "cell_type": "code",
   "execution_count": null,
   "metadata": {},
   "outputs": [],
   "source": []
  },
  {
   "cell_type": "code",
   "execution_count": 72,
   "metadata": {},
   "outputs": [],
   "source": [
    "class BaseBird():\n",
    "    def __init__(\n",
    "            self,\n",
    "                 wings_len: float = 12.5,\n",
    "                 legs_len: float = 3.5,\n",
    "                 color: str = \"black\"\n",
    "                ):\n",
    "        self.wings_len: float = wings_len\n",
    "        self.legs_len: float = legs_len\n",
    "        self.color: str = color\n",
    "        print('Bird Initialized')\n",
    "\n",
    "class RubberToy(BaseBird):\n",
    "\n",
    "    def __init__(self,\n",
    "                toxic: bool = False,\n",
    "                size: float = 12,\n",
    "                color: str = 'yellow'\n",
    "                ):\n",
    "        self.toxic: bool = toxic\n",
    "        self.size: float = size\n",
    "        self.color: str = color\n",
    "\n",
    "    def bounce(self):\n",
    "        print('plums')\n",
    "\n",
    "    def deform(self):\n",
    "        print('morphing time')\n",
    "\n",
    "    def make_noise(self):\n",
    "        print('peep')\n",
    "\n",
    "class Bird(\n",
    "    MixinWalkable,\n",
    "    MixinFlyable,\n",
    "    MixinTalkable,\n",
    "    MixinSwimable\n",
    "    ): pass\n"
   ]
  },
  {
   "cell_type": "code",
   "execution_count": 73,
   "metadata": {},
   "outputs": [
    {
     "name": "stdout",
     "output_type": "stream",
     "text": [
      "I talk\n"
     ]
    }
   ],
   "source": [
    "bird1 = Bird()\n",
    "bird1.talk()"
   ]
  },
  {
   "cell_type": "code",
   "execution_count": 74,
   "metadata": {},
   "outputs": [
    {
     "name": "stdout",
     "output_type": "stream",
     "text": [
      "peep\n"
     ]
    }
   ],
   "source": [
    "toy1 = RubberToy()\n",
    "toy1.make_noise()"
   ]
  },
  {
   "cell_type": "code",
   "execution_count": 75,
   "metadata": {},
   "outputs": [],
   "source": [
    "class RubberBird(\n",
    "    RubberToy,\n",
    "    BaseBird,\n",
    "    MixinTalkable\n",
    "):\n",
    "    pass"
   ]
  },
  {
   "cell_type": "code",
   "execution_count": 76,
   "metadata": {},
   "outputs": [
    {
     "ename": "AttributeError",
     "evalue": "'RubberBird' object has no attribute 'wings_len'",
     "output_type": "error",
     "traceback": [
      "\u001b[1;31m---------------------------------------------------------------------------\u001b[0m",
      "\u001b[1;31mAttributeError\u001b[0m                            Traceback (most recent call last)",
      "\u001b[1;32mc:\\Users\\Мирославик\\Desktop\\study\\python\\study\\lecture7\\birds.ipynb Cell 6\u001b[0m line \u001b[0;36m2\n\u001b[0;32m      <a href='vscode-notebook-cell:/c%3A/Users/%D0%9C%D0%B8%D1%80%D0%BE%D1%81%D0%BB%D0%B0%D0%B2%D0%B8%D0%BA/Desktop/study/python/study/lecture7/birds.ipynb#W6sZmlsZQ%3D%3D?line=0'>1</a>\u001b[0m rub_bird1 \u001b[39m=\u001b[39m RubberBird()\n\u001b[1;32m----> <a href='vscode-notebook-cell:/c%3A/Users/%D0%9C%D0%B8%D1%80%D0%BE%D1%81%D0%BB%D0%B0%D0%B2%D0%B8%D0%BA/Desktop/study/python/study/lecture7/birds.ipynb#W6sZmlsZQ%3D%3D?line=1'>2</a>\u001b[0m rub_bird1\u001b[39m.\u001b[39;49mwings_len\n",
      "\u001b[1;31mAttributeError\u001b[0m: 'RubberBird' object has no attribute 'wings_len'"
     ]
    }
   ],
   "source": [
    "rub_bird1 = RubberBird()\n",
    "rub_bird1.wings_len"
   ]
  }
 ],
 "metadata": {
  "kernelspec": {
   "display_name": "Python 3",
   "language": "python",
   "name": "python3"
  },
  "language_info": {
   "codemirror_mode": {
    "name": "ipython",
    "version": 3
   },
   "file_extension": ".py",
   "mimetype": "text/x-python",
   "name": "python",
   "nbconvert_exporter": "python",
   "pygments_lexer": "ipython3",
   "version": "3.11.5"
  },
  "orig_nbformat": 4
 },
 "nbformat": 4,
 "nbformat_minor": 2
}

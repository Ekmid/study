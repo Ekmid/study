{
 "cells": [
  {
   "cell_type": "code",
   "execution_count": 100,
   "metadata": {},
   "outputs": [],
   "source": [
    "class MixinJumpable:\n",
    "    def jump(self):\n",
    "        print('Прыгаю')\n",
    "\n",
    "class MixinWalkable:\n",
    "    def walk(self):\n",
    "        print('Хожу')\n",
    "\n",
    "class MixinRunable:\n",
    "    def run(self):\n",
    "        print('Бегу')\n",
    "\n",
    "class MixinFallable:\n",
    "    def fall(self):\n",
    "        print('Падаю')"
   ]
  },
  {
   "cell_type": "code",
   "execution_count": 101,
   "metadata": {},
   "outputs": [],
   "source": [
    "class Character:\n",
    "    def __init__(\n",
    "            self,\n",
    "            name: str | None = None,\n",
    "            hair_color: str | None = None,\n",
    "            is_naked: bool | None = None,\n",
    "            skin_color: str | None = None,\n",
    "    ):\n",
    "        self.name = name\n",
    "        self.hair_color = hair_color\n",
    "        self.is_naked = is_naked\n",
    "        self.skin_color = skin_color"
   ]
  },
  {
   "cell_type": "code",
   "execution_count": 102,
   "metadata": {},
   "outputs": [],
   "source": [
    "class Pudge(Playable):\n",
    "    def __init__(\n",
    "            self,\n",
    "            name: str = \"Pudge\",\n",
    "            hair_color: str = 'green',\n",
    "            is_naked: bool = False,\n",
    "            skin_color: str = 'white',\n",
    "    ):\n",
    "        self.name = name\n",
    "        self.hair_color = hair_color\n",
    "        self.is_naked = is_naked\n",
    "        self.skin_color = skin_color"
   ]
  },
  {
   "cell_type": "code",
   "execution_count": 103,
   "metadata": {},
   "outputs": [],
   "source": [
    "class FunkyPop(\n",
    "    Character,\n",
    "    MixinFallable\n",
    "):\n",
    "    def __init__(self,\n",
    "                 name: str = 'Pudge',\n",
    "                 weight: float | int = 4,\n",
    "                 height: float | int = 2\n",
    "    ):\n",
    "        self.name = name\n",
    "        self.weight = weight\n",
    "        self.height = height\n",
    "\n",
    "    def melting_rate(self):\n",
    "        print('Я плавлюсь за 10 секунд')"
   ]
  },
  {
   "cell_type": "code",
   "execution_count": 104,
   "metadata": {},
   "outputs": [],
   "source": [
    "class Playable(\n",
    "                MixinWalkable,\n",
    "                MixinJumpable,\n",
    "                MixinRunable,\n",
    "                MixinFallable\n",
    "):\n",
    "    pass"
   ]
  },
  {
   "cell_type": "code",
   "execution_count": 105,
   "metadata": {},
   "outputs": [
    {
     "name": "stdout",
     "output_type": "stream",
     "text": [
      "Хожу\n",
      "Падаю\n",
      "Падаю\n"
     ]
    },
    {
     "ename": "AttributeError",
     "evalue": "'FunkyPop' object has no attribute 'walk'",
     "output_type": "error",
     "traceback": [
      "\u001b[1;31m---------------------------------------------------------------------------\u001b[0m",
      "\u001b[1;31mAttributeError\u001b[0m                            Traceback (most recent call last)",
      "\u001b[1;32mc:\\Users\\Мирославик\\Desktop\\study\\python\\study\\lecture7\\FunkyPop.ipynb Cell 6\u001b[0m line \u001b[0;36m9\n\u001b[0;32m      <a href='vscode-notebook-cell:/c%3A/Users/%D0%9C%D0%B8%D1%80%D0%BE%D1%81%D0%BB%D0%B0%D0%B2%D0%B8%D0%BA/Desktop/study/python/study/lecture7/FunkyPop.ipynb#X11sZmlsZQ%3D%3D?line=6'>7</a>\u001b[0m funky_pudge\u001b[39m.\u001b[39mname\n\u001b[0;32m      <a href='vscode-notebook-cell:/c%3A/Users/%D0%9C%D0%B8%D1%80%D0%BE%D1%81%D0%BB%D0%B0%D0%B2%D0%B8%D0%BA/Desktop/study/python/study/lecture7/FunkyPop.ipynb#X11sZmlsZQ%3D%3D?line=7'>8</a>\u001b[0m funky_pudge\u001b[39m.\u001b[39mfall()\n\u001b[1;32m----> <a href='vscode-notebook-cell:/c%3A/Users/%D0%9C%D0%B8%D1%80%D0%BE%D1%81%D0%BB%D0%B0%D0%B2%D0%B8%D0%BA/Desktop/study/python/study/lecture7/FunkyPop.ipynb#X11sZmlsZQ%3D%3D?line=8'>9</a>\u001b[0m funky_pudge\u001b[39m.\u001b[39;49mwalk()\n",
      "\u001b[1;31mAttributeError\u001b[0m: 'FunkyPop' object has no attribute 'walk'"
     ]
    }
   ],
   "source": [
    "pudge_hero1 = Pudge()\n",
    "pudge_hero1.name\n",
    "pudge_hero1.walk()\n",
    "pudge_hero1.fall()\n",
    "\n",
    "funky_pudge = FunkyPop()\n",
    "funky_pudge.name\n",
    "funky_pudge.fall()\n",
    "funky_pudge.walk()"
   ]
  }
 ],
 "metadata": {
  "kernelspec": {
   "display_name": "Python 3",
   "language": "python",
   "name": "python3"
  },
  "language_info": {
   "codemirror_mode": {
    "name": "ipython",
    "version": 3
   },
   "file_extension": ".py",
   "mimetype": "text/x-python",
   "name": "python",
   "nbconvert_exporter": "python",
   "pygments_lexer": "ipython3",
   "version": "3.11.5"
  },
  "orig_nbformat": 4
 },
 "nbformat": 4,
 "nbformat_minor": 2
}

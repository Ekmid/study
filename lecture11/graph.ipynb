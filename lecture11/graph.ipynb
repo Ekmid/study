{
 "cells": [
  {
   "cell_type": "code",
   "execution_count": 3,
   "metadata": {},
   "outputs": [],
   "source": [
    "import numpy as np\n",
    "\n",
    "class Matrix:\n",
    "    def __init__(self, matrix):\n",
    "        self.matrix = np.array(matrix, dtype=float)\n",
    "    \n",
    "    def gram_schmidt(self):\n",
    "        basis = []\n",
    "        for i in range(self.matrix.shape[1]):\n",
    "            base_vec = self.matrix[:, i].astype(float)\n",
    "            for j in range(len(basis)):\n",
    "                base_vec = base_vec - np.dot(self.matrix[:, i].astype(float), basis[j]) / np.dot(basis[j], basis[j]) * basis[j]\n",
    "            if np.linalg.norm(base_vec) != 0:\n",
    "                basis.append(base_vec / np.linalg.norm(base_vec))\n",
    "        return basis"
   ]
  },
  {
   "cell_type": "code",
   "execution_count": 4,
   "metadata": {},
   "outputs": [
    {
     "name": "stdout",
     "output_type": "stream",
     "text": [
      "[array([0.70710678, 0.70710678]), array([ 0.70710678, -0.70710678])]\n"
     ]
    }
   ],
   "source": [
    "matrix = Matrix([[1, 1], [1, 0]])\n",
    "basis_vectors = matrix.gram_schmidt()\n",
    "print(basis_vectors)"
   ]
  }
 ],
 "metadata": {
  "kernelspec": {
   "display_name": "Python 3",
   "language": "python",
   "name": "python3"
  },
  "language_info": {
   "codemirror_mode": {
    "name": "ipython",
    "version": 3
   },
   "file_extension": ".py",
   "mimetype": "text/x-python",
   "name": "python",
   "nbconvert_exporter": "python",
   "pygments_lexer": "ipython3",
   "version": "3.11.6"
  },
  "orig_nbformat": 4
 },
 "nbformat": 4,
 "nbformat_minor": 2
}

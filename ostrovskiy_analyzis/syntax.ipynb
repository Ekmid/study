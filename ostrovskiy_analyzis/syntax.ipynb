{
 "cells": [
  {
   "cell_type": "code",
   "execution_count": 3,
   "metadata": {},
   "outputs": [
    {
     "name": "stdout",
     "output_type": "stream",
     "text": [
      "Note: you may need to restart the kernel to use updated packages.\n"
     ]
    },
    {
     "name": "stderr",
     "output_type": "stream",
     "text": [
      "\n",
      "[notice] A new release of pip is available: 23.2.1 -> 23.3\n",
      "[notice] To update, run: C:\\Users\\Мирославик\\AppData\\Local\\Microsoft\\WindowsApps\\PythonSoftwareFoundation.Python.3.11_qbz5n2kfra8p0\\python.exe -m pip install --upgrade pip\n"
     ]
    }
   ],
   "source": [
    "%pip install -q spacy"
   ]
  },
  {
   "cell_type": "code",
   "execution_count": 2,
   "metadata": {},
   "outputs": [],
   "source": [
    "import spacy\n",
    "nlp = spacy.load('ru_core_news_sm')"
   ]
  },
  {
   "cell_type": "code",
   "execution_count": 4,
   "metadata": {},
   "outputs": [],
   "source": [
    "with open(\"./texts/Svoi_lydi_sochtemsya_1.txt\") as f:\n",
    "    text1 = f.read()\n",
    "with open(\"./texts/Bednost_ne_porok_2.txt\") as f:\n",
    "    text2 = f.read()\n",
    "with open(\"./texts/Groza_3.txt\") as f:\n",
    "    text3 = f.read()\n",
    "with open(\"./texts/Snegyrochka_4.txt\") as f:\n",
    "    text4 = f.read()\n",
    "with open(\"./texts/Bespridannica_5.txt\") as f:\n",
    "    text5 = f.read()\n",
    "with open(\"./texts/Bez_vini_vinovatie_6.txt\") as f:\n",
    "    text6 = f.read()"
   ]
  },
  {
   "cell_type": "code",
   "execution_count": 5,
   "metadata": {},
   "outputs": [],
   "source": [
    "doc1 = nlp(text1)\n",
    "doc2 = nlp(text2)\n",
    "doc3 = nlp(text3)\n",
    "doc4 = nlp(text4)\n",
    "doc5 = nlp(text5)\n",
    "doc6 = nlp(text6)"
   ]
  },
  {
   "cell_type": "code",
   "execution_count": 34,
   "metadata": {},
   "outputs": [],
   "source": [
    "def count_parts_of_speech(doc):\n",
    "    word_counts = {}\n",
    "    for token in doc:\n",
    "        if token.pos_ in word_counts:\n",
    "            word_counts[token.pos_] += 1\n",
    "        else:\n",
    "            word_counts[token.pos_] = 1\n",
    "\n",
    "    sorted_dictionary = dict(sorted(word_counts.items(), key=lambda item: item[1], reverse=True))\n",
    "    for pos, count in sorted_dictionary.items():\n",
    "        if pos == 'X':\n",
    "            continue\n",
    "        print(f\"{pos}: {count}\")"
   ]
  },
  {
   "cell_type": "code",
   "execution_count": 35,
   "metadata": {},
   "outputs": [
    {
     "name": "stdout",
     "output_type": "stream",
     "text": [
      "---------------Произведение 1---------------\n",
      "PUNCT: 6507\n",
      "NOUN: 3545\n",
      "VERB: 2827\n",
      "PRON: 2683\n",
      "PROPN: 1825\n",
      "PART: 1779\n",
      "ADV: 1601\n",
      "ADP: 1168\n",
      "ADJ: 1100\n",
      "SPACE: 1032\n",
      "CCONJ: 929\n",
      "DET: 624\n",
      "SCONJ: 415\n",
      "NUM: 182\n",
      "AUX: 147\n",
      "INTJ: 97\n",
      "---------------Произведение 2---------------\n",
      "PUNCT: 5050\n",
      "NOUN: 2388\n",
      "VERB: 2165\n",
      "PRON: 1829\n",
      "PROPN: 1788\n",
      "PART: 1068\n",
      "SPACE: 995\n",
      "ADP: 988\n",
      "ADV: 814\n",
      "CCONJ: 595\n",
      "ADJ: 590\n",
      "DET: 437\n",
      "SCONJ: 226\n",
      "AUX: 112\n",
      "INTJ: 100\n",
      "NUM: 52\n",
      "---------------Произведение 3---------------\n",
      "PUNCT: 5746\n",
      "VERB: 2789\n",
      "PRON: 2644\n",
      "NOUN: 2587\n",
      "PART: 1525\n",
      "ADV: 1326\n",
      "ADP: 1181\n",
      "PROPN: 1104\n",
      "SPACE: 1065\n",
      "ADJ: 762\n",
      "CCONJ: 731\n",
      "DET: 553\n",
      "SCONJ: 407\n",
      "AUX: 155\n",
      "NUM: 90\n",
      "INTJ: 50\n",
      "---------------Произведение 4---------------\n",
      "PUNCT: 4687\n",
      "NOUN: 4277\n",
      "SPACE: 3694\n",
      "VERB: 2428\n",
      "PROPN: 1618\n",
      "ADP: 1428\n",
      "ADJ: 1391\n",
      "PRON: 1172\n",
      "PART: 722\n",
      "CCONJ: 718\n",
      "ADV: 674\n",
      "DET: 415\n",
      "SCONJ: 168\n",
      "AUX: 74\n",
      "NUM: 65\n",
      "INTJ: 13\n",
      "---------------Произведение 5---------------\n",
      "PUNCT: 7427\n",
      "NOUN: 3301\n",
      "VERB: 3130\n",
      "PRON: 2710\n",
      "PROPN: 2081\n",
      "ADV: 1741\n",
      "SPACE: 1695\n",
      "PART: 1506\n",
      "ADP: 1479\n",
      "ADJ: 1249\n",
      "CCONJ: 846\n",
      "DET: 619\n",
      "SCONJ: 375\n",
      "AUX: 182\n",
      "NUM: 142\n",
      "INTJ: 64\n",
      "---------------Произведение 6---------------\n",
      "PUNCT: 6691\n",
      "PRON: 3108\n",
      "VERB: 3074\n",
      "NOUN: 3015\n",
      "PART: 1724\n",
      "ADV: 1672\n",
      "PROPN: 1656\n",
      "ADP: 1487\n",
      "SPACE: 1275\n",
      "ADJ: 1058\n",
      "CCONJ: 917\n",
      "DET: 721\n",
      "SCONJ: 444\n",
      "AUX: 193\n",
      "NUM: 108\n",
      "INTJ: 74\n"
     ]
    }
   ],
   "source": [
    "print('---------------Произведение 1---------------')\n",
    "count_parts_of_speech(doc1)\n",
    "print('---------------Произведение 2---------------')\n",
    "count_parts_of_speech(doc2)\n",
    "print('---------------Произведение 3---------------')\n",
    "count_parts_of_speech(doc3)\n",
    "print('---------------Произведение 4---------------')\n",
    "count_parts_of_speech(doc4)\n",
    "print('---------------Произведение 5---------------')\n",
    "count_parts_of_speech(doc5)\n",
    "print('---------------Произведение 6---------------')\n",
    "count_parts_of_speech(doc6)"
   ]
  },
  {
   "cell_type": "markdown",
   "metadata": {},
   "source": [
    "В начале своей творческой карьеры автор активно использовал знаки пунктуации и впоследствии количество их использования снизилось. Это может указывать на более законченный и оформленный стиль письма со временем.\n",
    "\n",
    "Чаще всего автор использовал существительные и глаголы в своих произведениях. Это может свидетельствовать о фокусе на действии и развивающихся сюжетах в его работах.\n",
    "\n",
    "В последних произведениях автор начал чаще использовать местоимения и наречия, что может указывать на более глубокое вовлечение читателя внутрь персонажей и событий и направление на более детальное описание их внутреннего мира."
   ]
  }
 ],
 "metadata": {
  "kernelspec": {
   "display_name": "Python 3",
   "language": "python",
   "name": "python3"
  },
  "language_info": {
   "codemirror_mode": {
    "name": "ipython",
    "version": 3
   },
   "file_extension": ".py",
   "mimetype": "text/x-python",
   "name": "python",
   "nbconvert_exporter": "python",
   "pygments_lexer": "ipython3",
   "version": "3.11.5"
  }
 },
 "nbformat": 4,
 "nbformat_minor": 2
}

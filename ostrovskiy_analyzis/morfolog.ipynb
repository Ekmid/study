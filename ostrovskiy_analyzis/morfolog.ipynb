{
 "cells": [
  {
   "cell_type": "code",
   "execution_count": 1,
   "metadata": {},
   "outputs": [
    {
     "name": "stderr",
     "output_type": "stream",
     "text": [
      "\n",
      "[notice] A new release of pip is available: 23.2.1 -> 23.3\n",
      "[notice] To update, run: C:\\Users\\Мирославик\\AppData\\Local\\Microsoft\\WindowsApps\\PythonSoftwareFoundation.Python.3.11_qbz5n2kfra8p0\\python.exe -m pip install --upgrade pip\n"
     ]
    },
    {
     "name": "stdout",
     "output_type": "stream",
     "text": [
      "Note: you may need to restart the kernel to use updated packages.\n"
     ]
    }
   ],
   "source": [
    "%pip install -q spacy scikit-learn\n",
    "import spacy\n",
    "import numpy as np\n",
    "import sklearn"
   ]
  },
  {
   "cell_type": "code",
   "execution_count": 2,
   "metadata": {},
   "outputs": [],
   "source": [
    "with open(\"../ostrovskiy_analyzis/texts/Svoi_lydi_sochtemsya_1.txt\", \"r\") as file:\n",
    "    text_1 = file.read()\n",
    "\n",
    "with open(\"../ostrovskiy_analyzis/texts/Bednost_ne_porok_2.txt\", \"r\") as file:\n",
    "    text_2 = file.read()\n",
    "\n",
    "with open(\"../ostrovskiy_analyzis/texts/Groza_3.txt\", \"r\") as file:\n",
    "    text_3 = file.read()\n",
    "\n",
    "with open(\"../ostrovskiy_analyzis/texts/Snegyrochka_4.txt\", \"r\") as file:\n",
    "    text_4 = file.read()\n",
    "\n",
    "with open(\"../ostrovskiy_analyzis/texts/Bespridannica_5.txt\", \"r\") as file:\n",
    "    text_5 = file.read()\n",
    "\n",
    "with open(\"../ostrovskiy_analyzis/texts/Bez_vini_vinovatie_6.txt\", \"r\") as file:\n",
    "    text_6 = file.read()"
   ]
  },
  {
   "cell_type": "code",
   "execution_count": 3,
   "metadata": {},
   "outputs": [],
   "source": [
    "nlp = spacy.load('ru_core_news_sm')\n",
    "doc1 = nlp(text_1)\n",
    "doc2 = nlp(text_2)\n",
    "doc3 = nlp(text_3)\n",
    "doc4 = nlp(text_4)\n",
    "doc5 = nlp(text_5)\n",
    "doc6 = nlp(text_6)"
   ]
  },
  {
   "cell_type": "code",
   "execution_count": 14,
   "metadata": {},
   "outputs": [
    {
     "name": "stdout",
     "output_type": "stream",
     "text": [
      "19183\n",
      "113212\n"
     ]
    }
   ],
   "source": [
    "txt1 = [token.text for token in doc1 if not token.is_punct]\n",
    "txt2 = [token.text for token in doc2 if not token.is_punct]\n",
    "txt3 = [token.text for token in doc3 if not token.is_punct]\n",
    "txt4 = [token.text for token in doc4 if not token.is_punct]\n",
    "txt5 = [token.text for token in doc5 if not token.is_punct]\n",
    "txt6 = [token.text for token in doc6 if not token.is_punct]\n",
    "print(len(txt1))\n",
    "print(len(text_1))"
   ]
  },
  {
   "cell_type": "code",
   "execution_count": 17,
   "metadata": {},
   "outputs": [
    {
     "name": "stdout",
     "output_type": "stream",
     "text": [
      "Слово что повторяется 343 раз(а).\n",
      "Слово \n",
      "\n",
      " повторяется 1029 раз(а).\n",
      "Слово с повторяется 318 раз(а).\n",
      "Слово и повторяется 461 раз(а).\n",
      "Слово не повторяется 421 раз(а).\n",
      "Слово то повторяется 461 раз(а).\n"
     ]
    }
   ],
   "source": [
    "def count_duplicates(lst):\n",
    "    counts = {}  # Создаем пустой словарь для подсчета повторений\n",
    "    for item in lst:\n",
    "        if item in counts:\n",
    "            counts[item] += 1  # Увеличиваем значение для существующего элемента\n",
    "        else:\n",
    "            counts[item] = 1  # Добавляем новый элемент в словарь с начальным значением 1\n",
    "\n",
    "    return counts\n",
    "\n",
    "my_list = txt1\n",
    "duplicates = count_duplicates(my_list)\n",
    "for item, count in duplicates.items():\n",
    "    if count > 300:\n",
    "        print(f\"Слово {item} повторяется {count} раз(а).\")"
   ]
  },
  {
   "cell_type": "code",
   "execution_count": null,
   "metadata": {},
   "outputs": [],
   "source": []
  }
 ],
 "metadata": {
  "kernelspec": {
   "display_name": "Python 3",
   "language": "python",
   "name": "python3"
  },
  "language_info": {
   "codemirror_mode": {
    "name": "ipython",
    "version": 3
   },
   "file_extension": ".py",
   "mimetype": "text/x-python",
   "name": "python",
   "nbconvert_exporter": "python",
   "pygments_lexer": "ipython3",
   "version": "3.11.6"
  }
 },
 "nbformat": 4,
 "nbformat_minor": 2
}

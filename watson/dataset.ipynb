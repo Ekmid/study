{
 "cells": [
  {
   "cell_type": "code",
   "execution_count": 1,
   "metadata": {},
   "outputs": [],
   "source": [
    "import pandas as pd"
   ]
  },
  {
   "cell_type": "code",
   "execution_count": 2,
   "metadata": {},
   "outputs": [],
   "source": [
    "data = pd.read_csv('ielts_writing_dataset.csv')"
   ]
  },
  {
   "cell_type": "code",
   "execution_count": 3,
   "metadata": {},
   "outputs": [
    {
     "data": {
      "text/html": [
       "<div>\n",
       "<style scoped>\n",
       "    .dataframe tbody tr th:only-of-type {\n",
       "        vertical-align: middle;\n",
       "    }\n",
       "\n",
       "    .dataframe tbody tr th {\n",
       "        vertical-align: top;\n",
       "    }\n",
       "\n",
       "    .dataframe thead th {\n",
       "        text-align: right;\n",
       "    }\n",
       "</style>\n",
       "<table border=\"1\" class=\"dataframe\">\n",
       "  <thead>\n",
       "    <tr style=\"text-align: right;\">\n",
       "      <th></th>\n",
       "      <th>Task_Type</th>\n",
       "      <th>Question</th>\n",
       "      <th>Essay</th>\n",
       "      <th>Examiner_Commen</th>\n",
       "      <th>Task_Response</th>\n",
       "      <th>Coherence_Cohesion</th>\n",
       "      <th>Lexical_Resource</th>\n",
       "      <th>Range_Accuracy</th>\n",
       "      <th>Overall</th>\n",
       "    </tr>\n",
       "  </thead>\n",
       "  <tbody>\n",
       "    <tr>\n",
       "      <th>0</th>\n",
       "      <td>1</td>\n",
       "      <td>The bar chart below describes some changes abo...</td>\n",
       "      <td>Between 1995 and 2010, a study was conducted r...</td>\n",
       "      <td>NaN</td>\n",
       "      <td>NaN</td>\n",
       "      <td>NaN</td>\n",
       "      <td>NaN</td>\n",
       "      <td>NaN</td>\n",
       "      <td>5.5</td>\n",
       "    </tr>\n",
       "    <tr>\n",
       "      <th>1</th>\n",
       "      <td>2</td>\n",
       "      <td>Rich countries often give money to poorer coun...</td>\n",
       "      <td>Poverty represents a worldwide crisis. It is t...</td>\n",
       "      <td>NaN</td>\n",
       "      <td>NaN</td>\n",
       "      <td>NaN</td>\n",
       "      <td>NaN</td>\n",
       "      <td>NaN</td>\n",
       "      <td>6.5</td>\n",
       "    </tr>\n",
       "    <tr>\n",
       "      <th>2</th>\n",
       "      <td>1</td>\n",
       "      <td>The bar chart below describes some changes abo...</td>\n",
       "      <td>The left chart shows the population change hap...</td>\n",
       "      <td>NaN</td>\n",
       "      <td>NaN</td>\n",
       "      <td>NaN</td>\n",
       "      <td>NaN</td>\n",
       "      <td>NaN</td>\n",
       "      <td>5.0</td>\n",
       "    </tr>\n",
       "    <tr>\n",
       "      <th>3</th>\n",
       "      <td>2</td>\n",
       "      <td>Rich countries often give money to poorer coun...</td>\n",
       "      <td>Human beings are facing many challenges nowada...</td>\n",
       "      <td>NaN</td>\n",
       "      <td>NaN</td>\n",
       "      <td>NaN</td>\n",
       "      <td>NaN</td>\n",
       "      <td>NaN</td>\n",
       "      <td>5.5</td>\n",
       "    </tr>\n",
       "    <tr>\n",
       "      <th>4</th>\n",
       "      <td>1</td>\n",
       "      <td>The graph below shows the number of overseas v...</td>\n",
       "      <td>Information about the thousands of visits from...</td>\n",
       "      <td>NaN</td>\n",
       "      <td>NaN</td>\n",
       "      <td>NaN</td>\n",
       "      <td>NaN</td>\n",
       "      <td>NaN</td>\n",
       "      <td>7.0</td>\n",
       "    </tr>\n",
       "  </tbody>\n",
       "</table>\n",
       "</div>"
      ],
      "text/plain": [
       "   Task_Type                                           Question  \\\n",
       "0          1  The bar chart below describes some changes abo...   \n",
       "1          2  Rich countries often give money to poorer coun...   \n",
       "2          1  The bar chart below describes some changes abo...   \n",
       "3          2  Rich countries often give money to poorer coun...   \n",
       "4          1  The graph below shows the number of overseas v...   \n",
       "\n",
       "                                               Essay Examiner_Commen  \\\n",
       "0  Between 1995 and 2010, a study was conducted r...             NaN   \n",
       "1  Poverty represents a worldwide crisis. It is t...             NaN   \n",
       "2  The left chart shows the population change hap...             NaN   \n",
       "3  Human beings are facing many challenges nowada...             NaN   \n",
       "4  Information about the thousands of visits from...             NaN   \n",
       "\n",
       "   Task_Response  Coherence_Cohesion  Lexical_Resource  Range_Accuracy  \\\n",
       "0            NaN                 NaN               NaN             NaN   \n",
       "1            NaN                 NaN               NaN             NaN   \n",
       "2            NaN                 NaN               NaN             NaN   \n",
       "3            NaN                 NaN               NaN             NaN   \n",
       "4            NaN                 NaN               NaN             NaN   \n",
       "\n",
       "   Overall  \n",
       "0      5.5  \n",
       "1      6.5  \n",
       "2      5.0  \n",
       "3      5.5  \n",
       "4      7.0  "
      ]
     },
     "execution_count": 3,
     "metadata": {},
     "output_type": "execute_result"
    }
   ],
   "source": [
    "data.head()"
   ]
  },
  {
   "cell_type": "code",
   "execution_count": 4,
   "metadata": {},
   "outputs": [
    {
     "name": "stdout",
     "output_type": "stream",
     "text": [
      "<class 'pandas.core.frame.DataFrame'>\n",
      "RangeIndex: 1435 entries, 0 to 1434\n",
      "Data columns (total 9 columns):\n",
      " #   Column              Non-Null Count  Dtype  \n",
      "---  ------              --------------  -----  \n",
      " 0   Task_Type           1435 non-null   int64  \n",
      " 1   Question            1435 non-null   object \n",
      " 2   Essay               1435 non-null   object \n",
      " 3   Examiner_Commen     62 non-null     object \n",
      " 4   Task_Response       0 non-null      float64\n",
      " 5   Coherence_Cohesion  0 non-null      float64\n",
      " 6   Lexical_Resource    0 non-null      float64\n",
      " 7   Range_Accuracy      0 non-null      float64\n",
      " 8   Overall             1435 non-null   float64\n",
      "dtypes: float64(5), int64(1), object(3)\n",
      "memory usage: 101.0+ KB\n"
     ]
    }
   ],
   "source": [
    "data.info()"
   ]
  },
  {
   "cell_type": "code",
   "execution_count": 20,
   "metadata": {},
   "outputs": [],
   "source": [
    "df = data.drop(columns=['Examiner_Commen', 'Task_Response', 'Coherence_Cohesion','Range_Accuracy', 'Lexical_Resource'])"
   ]
  },
  {
   "cell_type": "code",
   "execution_count": 21,
   "metadata": {},
   "outputs": [
    {
     "data": {
      "text/html": [
       "<div>\n",
       "<style scoped>\n",
       "    .dataframe tbody tr th:only-of-type {\n",
       "        vertical-align: middle;\n",
       "    }\n",
       "\n",
       "    .dataframe tbody tr th {\n",
       "        vertical-align: top;\n",
       "    }\n",
       "\n",
       "    .dataframe thead th {\n",
       "        text-align: right;\n",
       "    }\n",
       "</style>\n",
       "<table border=\"1\" class=\"dataframe\">\n",
       "  <thead>\n",
       "    <tr style=\"text-align: right;\">\n",
       "      <th></th>\n",
       "      <th>Task_Type</th>\n",
       "      <th>Question</th>\n",
       "      <th>Essay</th>\n",
       "      <th>Overall</th>\n",
       "    </tr>\n",
       "  </thead>\n",
       "  <tbody>\n",
       "    <tr>\n",
       "      <th>0</th>\n",
       "      <td>1</td>\n",
       "      <td>The bar chart below describes some changes abo...</td>\n",
       "      <td>Between 1995 and 2010, a study was conducted r...</td>\n",
       "      <td>5.5</td>\n",
       "    </tr>\n",
       "    <tr>\n",
       "      <th>1</th>\n",
       "      <td>2</td>\n",
       "      <td>Rich countries often give money to poorer coun...</td>\n",
       "      <td>Poverty represents a worldwide crisis. It is t...</td>\n",
       "      <td>6.5</td>\n",
       "    </tr>\n",
       "    <tr>\n",
       "      <th>2</th>\n",
       "      <td>1</td>\n",
       "      <td>The bar chart below describes some changes abo...</td>\n",
       "      <td>The left chart shows the population change hap...</td>\n",
       "      <td>5.0</td>\n",
       "    </tr>\n",
       "    <tr>\n",
       "      <th>3</th>\n",
       "      <td>2</td>\n",
       "      <td>Rich countries often give money to poorer coun...</td>\n",
       "      <td>Human beings are facing many challenges nowada...</td>\n",
       "      <td>5.5</td>\n",
       "    </tr>\n",
       "    <tr>\n",
       "      <th>4</th>\n",
       "      <td>1</td>\n",
       "      <td>The graph below shows the number of overseas v...</td>\n",
       "      <td>Information about the thousands of visits from...</td>\n",
       "      <td>7.0</td>\n",
       "    </tr>\n",
       "  </tbody>\n",
       "</table>\n",
       "</div>"
      ],
      "text/plain": [
       "   Task_Type                                           Question  \\\n",
       "0          1  The bar chart below describes some changes abo...   \n",
       "1          2  Rich countries often give money to poorer coun...   \n",
       "2          1  The bar chart below describes some changes abo...   \n",
       "3          2  Rich countries often give money to poorer coun...   \n",
       "4          1  The graph below shows the number of overseas v...   \n",
       "\n",
       "                                               Essay  Overall  \n",
       "0  Between 1995 and 2010, a study was conducted r...      5.5  \n",
       "1  Poverty represents a worldwide crisis. It is t...      6.5  \n",
       "2  The left chart shows the population change hap...      5.0  \n",
       "3  Human beings are facing many challenges nowada...      5.5  \n",
       "4  Information about the thousands of visits from...      7.0  "
      ]
     },
     "execution_count": 21,
     "metadata": {},
     "output_type": "execute_result"
    }
   ],
   "source": [
    "df.head()"
   ]
  },
  {
   "cell_type": "code",
   "execution_count": 27,
   "metadata": {},
   "outputs": [
    {
     "data": {
      "text/plain": [
       "Task_Type    0\n",
       "Question     0\n",
       "Essay        0\n",
       "Overall      0\n",
       "dtype: int64"
      ]
     },
     "execution_count": 27,
     "metadata": {},
     "output_type": "execute_result"
    }
   ],
   "source": [
    "df.isna().sum()"
   ]
  },
  {
   "cell_type": "code",
   "execution_count": 28,
   "metadata": {},
   "outputs": [
    {
     "name": "stdout",
     "output_type": "stream",
     "text": [
      "<class 'pandas.core.frame.DataFrame'>\n",
      "RangeIndex: 1435 entries, 0 to 1434\n",
      "Data columns (total 4 columns):\n",
      " #   Column     Non-Null Count  Dtype  \n",
      "---  ------     --------------  -----  \n",
      " 0   Task_Type  1435 non-null   int64  \n",
      " 1   Question   1435 non-null   object \n",
      " 2   Essay      1435 non-null   object \n",
      " 3   Overall    1435 non-null   float64\n",
      "dtypes: float64(1), int64(1), object(2)\n",
      "memory usage: 45.0+ KB\n"
     ]
    }
   ],
   "source": [
    "df.info()"
   ]
  },
  {
   "cell_type": "code",
   "execution_count": 30,
   "metadata": {},
   "outputs": [
    {
     "data": {
      "text/plain": [
       "array([1, 2], dtype=int64)"
      ]
     },
     "execution_count": 30,
     "metadata": {},
     "output_type": "execute_result"
    }
   ],
   "source": [
    "df['Task_Type'].unique()"
   ]
  },
  {
   "cell_type": "code",
   "execution_count": null,
   "metadata": {},
   "outputs": [],
   "source": [
    "df.groupby(['Task_Type']).sum().plot(kind='pie', y='votes_of_each_class')"
   ]
  }
 ],
 "metadata": {
  "kernelspec": {
   "display_name": "Python 3",
   "language": "python",
   "name": "python3"
  },
  "language_info": {
   "codemirror_mode": {
    "name": "ipython",
    "version": 3
   },
   "file_extension": ".py",
   "mimetype": "text/x-python",
   "name": "python",
   "nbconvert_exporter": "python",
   "pygments_lexer": "ipython3",
   "version": "3.11.6"
  }
 },
 "nbformat": 4,
 "nbformat_minor": 2
}

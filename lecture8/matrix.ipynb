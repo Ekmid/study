{
 "cells": [
  {
   "cell_type": "code",
   "execution_count": 4,
   "metadata": {},
   "outputs": [
    {
     "name": "stdout",
     "output_type": "stream",
     "text": [
      "Note: you may need to restart the kernel to use updated packages.\n"
     ]
    }
   ],
   "source": [
    "%pip -q install numpy\n",
    "import numpy as np"
   ]
  },
  {
   "cell_type": "code",
   "execution_count": 5,
   "metadata": {},
   "outputs": [],
   "source": [
    "class Matrix:\n",
    "    def __init__(self, matrix):\n",
    "        self.matrix = matrix\n",
    "\n",
    "    def __add__(self, other):\n",
    "        if len(self.matrix) != len(other.matrix) or len(self.matrix[0]) != len(other.matrix[0]):\n",
    "            raise ValueError(\"Матрицы должны быть одинакового размера для сложения\")\n",
    "        \n",
    "        result = []\n",
    "        for i in range(len(self.matrix)):\n",
    "            row = []\n",
    "            for j in range(len(self.matrix[0])):\n",
    "                row.append(self.matrix[i][j] + other.matrix[i][j])\n",
    "            result.append(row)\n",
    "        \n",
    "        return Matrix(result)"
   ]
  },
  {
   "cell_type": "code",
   "execution_count": 6,
   "metadata": {},
   "outputs": [
    {
     "name": "stdout",
     "output_type": "stream",
     "text": [
      "Сумма матриц (через Matrix):\n",
      "[8, 10, 12]\n",
      "[14, 16, 18]\n",
      "Сумма матриц (через NumPy):\n",
      "[ 8 10 12]\n",
      "[14 16 18]\n"
     ]
    }
   ],
   "source": [
    "#Matrix сложение матриц\n",
    "matrix1 = [[1, 2, 3], \n",
    "           [4, 5, 6]]\n",
    "\n",
    "matrix2 = [[7, 8, 9], \n",
    "           [10, 11, 12]]\n",
    "\n",
    "my_matrix1 = Matrix(matrix1)\n",
    "my_matrix2 = Matrix(matrix2)\n",
    "\n",
    "result_matrix = my_matrix1 + my_matrix2\n",
    "print(\"Сумма матриц (через Matrix):\")\n",
    "for row in result_matrix.matrix:\n",
    "    print(row)\n",
    "\n",
    "#NumPy сложение матриц\n",
    "np_matrix1 = np.array(matrix1)\n",
    "np_matrix2 = np.array(matrix2)\n",
    "\n",
    "np_result_matrix = np_matrix1 + np_matrix2\n",
    "print(\"Сумма матриц (через NumPy):\")\n",
    "for row in np_result_matrix:\n",
    "    print(row)"
   ]
  }
 ],
 "metadata": {
  "kernelspec": {
   "display_name": "Python 3",
   "language": "python",
   "name": "python3"
  },
  "language_info": {
   "codemirror_mode": {
    "name": "ipython",
    "version": 3
   },
   "file_extension": ".py",
   "mimetype": "text/x-python",
   "name": "python",
   "nbconvert_exporter": "python",
   "pygments_lexer": "ipython3",
   "version": "3.11.5"
  },
  "orig_nbformat": 4
 },
 "nbformat": 4,
 "nbformat_minor": 2
}

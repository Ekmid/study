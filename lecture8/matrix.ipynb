{
 "cells": [
  {
   "cell_type": "code",
   "execution_count": 30,
   "metadata": {},
   "outputs": [
    {
     "name": "stdout",
     "output_type": "stream",
     "text": [
      "Note: you may need to restart the kernel to use updated packages.\n"
     ]
    }
   ],
   "source": [
    "%pip -q install numpy\n",
    "import numpy as np"
   ]
  },
  {
   "cell_type": "code",
   "execution_count": 38,
   "metadata": {},
   "outputs": [],
   "source": [
    "class Matrix:\n",
    "    def __init__(self, matrix):\n",
    "        self.matrix = matrix\n",
    "    \n",
    "    def T(self):\n",
    "        result = []\n",
    "        for j in range(len(self.matrix[0])):\n",
    "            row = []\n",
    "            for i in range(len(self.matrix)):\n",
    "                row.append(self.matrix[i][j])\n",
    "            result.append(row)\n",
    "        \n",
    "        return Matrix(result)\n",
    "\n",
    "    def __add__(self, other):\n",
    "        if len(self.matrix) != len(other.matrix) or len(self.matrix[0]) != len(other.matrix[0]):\n",
    "            raise ValueError(\"Матрицы должны быть одинакового размера для сложения\")\n",
    "        \n",
    "        result = []\n",
    "        for i in range(len(self.matrix)):\n",
    "            row = []\n",
    "            for j in range(len(self.matrix[0])):\n",
    "                row.append(self.matrix[i][j] + other.matrix[i][j])\n",
    "            result.append(row)\n",
    "        \n",
    "        return Matrix(result)\n",
    "    \n",
    "    def __sub__(self, other):\n",
    "        if len(self.matrix) != len(other.matrix) or len(self.matrix[0]) != len(other.matrix[0]):\n",
    "            raise ValueError(\"Матрицы должны быть одинакового размера для вычитания\")\n",
    "        \n",
    "        result = []\n",
    "        for i in range(len(self.matrix)):\n",
    "            row = []\n",
    "            for j in range(len(self.matrix[0])):\n",
    "                row.append(self.matrix[i][j] - other.matrix[i][j])\n",
    "            result.append(row)\n",
    "        \n",
    "        return Matrix(result)\n",
    "    \n",
    "    def __mul__(self, other):\n",
    "        if isinstance(other, (int, float)):\n",
    "            result = []\n",
    "            for i in range(len(self.matrix)):\n",
    "                row = []\n",
    "                for j in range(len(self.matrix[0])):\n",
    "                    row.append(self.matrix[i][j] * other)\n",
    "                result.append(row)\n",
    "            \n",
    "            return Matrix(result)\n",
    "        \n",
    "        if len(self.matrix[0]) != len(other.matrix):\n",
    "            raise ValueError(\"Количество столбцов в первой матрице должно быть равно количеству строк во второй матрице для умножения\")\n",
    "        \n",
    "        result = []\n",
    "        for i in range(len(self.matrix)):\n",
    "            row = []\n",
    "            for j in range(len(other.matrix[0])):\n",
    "                sum = 0\n",
    "                for k in range(len(other.matrix)):\n",
    "                    sum += self.matrix[i][k] * other.matrix[k][j]\n",
    "                row.append(sum)\n",
    "            result.append(row)\n",
    "        \n",
    "        return Matrix(result)\n",
    "    \n",
    "    def divide_scalar(self, scalar):\n",
    "        result = []\n",
    "        for i in range(len(self.matrix)):\n",
    "            row = []\n",
    "            for j in range(len(self.matrix[0])):\n",
    "                row.append(self.matrix[i][j] / scalar)\n",
    "            result.append(row)\n",
    "        \n",
    "        return Matrix(result)\n",
    "    \n",
    "    def __truediv__(self, other):\n",
    "        if isinstance(other, Matrix):\n",
    "            if len(self.matrix) != len(other.matrix) or len(self.matrix[0]) != len(other.matrix[0]):\n",
    "                raise ValueError(\"Матрицы должны быть одинакового размера для деления\")\n",
    "\n",
    "        result = []\n",
    "        for i in range(len(self.matrix)):\n",
    "            row = []\n",
    "            for j in range(len(self.matrix[0])):\n",
    "                row.append(self.matrix[i][j] / other.matrix[i][j])\n",
    "            result.append(row)\n",
    "\n",
    "        return Matrix(result)\n",
    "        raise ValueError(\"Деление матриц не определено\")\n",
    "    \n",
    "    def __matmul__(self, other):\n",
    "        if len(self.matrix[0]) != len(other.matrix):\n",
    "            raise ValueError(\"Количество столбцов в первой матрице должно быть равно количеству строк во второй матрице для умножения скалярного произведения\")\n",
    "        \n",
    "        result = 0\n",
    "        for i in range(len(self.matrix)):\n",
    "            for j in range(len(self.matrix[0])):\n",
    "                result += self.matrix[i][j] * other.matrix[j][i]\n",
    "        \n",
    "        return result"
   ]
  },
  {
   "cell_type": "code",
   "execution_count": 39,
   "metadata": {},
   "outputs": [
    {
     "name": "stdout",
     "output_type": "stream",
     "text": [
      "Сумма матриц (через Matrix):\n",
      "[8, 10, 12]\n",
      "[14, 16, 18]\n",
      "Сумма матриц (через NumPy):\n",
      "[ 8 10 12]\n",
      "[14 16 18]\n"
     ]
    }
   ],
   "source": [
    "matrix1 = [[1, 2, 3], \n",
    "           [4, 5, 6]]\n",
    "\n",
    "matrix2 = [[7, 8, 9], \n",
    "           [10, 11, 12]]\n",
    "\n",
    "my_matrix1 = Matrix(matrix1)\n",
    "my_matrix2 = Matrix(matrix2)\n",
    "\n",
    "result_matrix = my_matrix1 + my_matrix2\n",
    "print(\"Сумма матриц (через Matrix):\")\n",
    "for row in result_matrix.matrix:\n",
    "    print(row)\n",
    "\n",
    "np_matrix1 = np.array(matrix1)\n",
    "np_matrix2 = np.array(matrix2)\n",
    "\n",
    "np_result_matrix = np_matrix1 + np_matrix2\n",
    "print(\"Сумма матриц (через NumPy):\")\n",
    "for row in np_result_matrix:\n",
    "    print(row)"
   ]
  },
  {
   "cell_type": "code",
   "execution_count": 40,
   "metadata": {},
   "outputs": [
    {
     "name": "stdout",
     "output_type": "stream",
     "text": [
      "Деление матрицы на число (через Matrix):\n",
      "[0.5, 1.0, 1.5]\n",
      "[2.0, 2.5, 3.0]\n",
      "Деление матрицы на число (через NumPy):\n",
      "[0.5 1.  1.5]\n",
      "[2.  2.5 3. ]\n"
     ]
    }
   ],
   "source": [
    "scalar = 2\n",
    "result_matrix = my_matrix1.divide_scalar(scalar)\n",
    "\n",
    "print(\"Деление матрицы на число (через Matrix):\")\n",
    "for row in result_matrix.matrix:\n",
    "    print(row)\n",
    "\n",
    "np_result_matrix = np_matrix1 / scalar\n",
    "\n",
    "print(\"Деление матрицы на число (через NumPy):\")\n",
    "for row in np_result_matrix:\n",
    "    print(row)"
   ]
  },
  {
   "cell_type": "code",
   "execution_count": 33,
   "metadata": {},
   "outputs": [
    {
     "name": "stdout",
     "output_type": "stream",
     "text": [
      "Транспонированная матрица через Matrix:\n",
      "[1, 4]\n",
      "[2, 5]\n",
      "[3, 6]\n",
      "Транспонированная матрица через NumPy:\n",
      "[1 4]\n",
      "[2 5]\n",
      "[3 6]\n"
     ]
    }
   ],
   "source": [
    "transposed_matrix = my_matrix1.T()\n",
    "print(\"Транспонированная матрица через Matrix:\")\n",
    "for row in transposed_matrix.matrix:\n",
    "    print(row)\n",
    "\n",
    "np_transposed_matrix = np.transpose(np_matrix1)\n",
    "print(\"Транспонированная матрица через NumPy:\")\n",
    "for row in np_transposed_matrix:\n",
    "    print(row)"
   ]
  },
  {
   "cell_type": "code",
   "execution_count": 34,
   "metadata": {},
   "outputs": [
    {
     "name": "stdout",
     "output_type": "stream",
     "text": [
      "Вычитание матриц (через Matrix):\n",
      "[-6, -6, -6]\n",
      "[-6, -6, -6]\n",
      "Вычитание матриц (через NumPy):\n",
      "[-6 -6 -6]\n",
      "[-6 -6 -6]\n"
     ]
    }
   ],
   "source": [
    "result_matrix = my_matrix1 - my_matrix2\n",
    "print(\"Вычитание матриц (через Matrix):\")\n",
    "for row in result_matrix.matrix:\n",
    "    print(row)\n",
    "\n",
    "np_result_matrix = np_matrix1 - np_matrix2\n",
    "print(\"Вычитание матриц (через NumPy):\")\n",
    "for row in np_result_matrix:\n",
    "    print(row)"
   ]
  },
  {
   "cell_type": "code",
   "execution_count": 36,
   "metadata": {},
   "outputs": [
    {
     "name": "stdout",
     "output_type": "stream",
     "text": [
      "Деление матрицы на матрицу (через Matrix):\n",
      "[0.14285714285714285, 0.25, 0.3333333333333333]\n",
      "[4.0, 2.5, 2.0]\n",
      "[0.1, 0.18181818181818182, 0.25]\n",
      "Деление матрицы на матрицу (через NumPy):\n",
      "[0.14285714 0.25       0.33333333]\n",
      "[4.  2.5 2. ]\n",
      "[0.1        0.18181818 0.25      ]\n"
     ]
    }
   ],
   "source": [
    "matrix1 = [[1, 2, 3], \n",
    "           [4, 5, 6],\n",
    "           [1, 2, 3]]\n",
    "\n",
    "matrix2 = [[7, 8, 9],\n",
    "           [1, 2, 3],\n",
    "           [10, 11, 12]]\n",
    "\n",
    "my_matrix1 = Matrix(matrix1)\n",
    "my_matrix2 = Matrix(matrix2)\n",
    "\n",
    "np_matrix1 = np.array(matrix1)\n",
    "np_matrix2 = np.array(matrix2)\n",
    "\n",
    "result_matrix = my_matrix1 / my_matrix2\n",
    "print(\"Деление матрицы на матрицу (через Matrix):\")\n",
    "for row in result_matrix.matrix:\n",
    "    print(row)\n",
    "\n",
    "np_result_matrix = np_matrix1 / np_matrix2\n",
    "print(\"Деление матрицы на матрицу (через NumPy):\")\n",
    "for row in np_result_matrix:\n",
    "    print(row)"
   ]
  },
  {
   "cell_type": "code",
   "execution_count": 42,
   "metadata": {},
   "outputs": [
    {
     "name": "stdout",
     "output_type": "stream",
     "text": [
      "Умножение матриц (через Matrix):\n",
      "[36, 45, 54]\n",
      "[96, 117, 138]\n",
      "Умножение матрицы [[1, 2, 3], [4, 5, 6]] на число 2 (через Matrix):\n",
      "[2, 4, 6]\n",
      "[8, 10, 12]\n",
      "Умножение матриц (через NumPy):\n",
      "[36 45 54]\n",
      "[ 96 117 138]\n"
     ]
    }
   ],
   "source": [
    "matrix1 = [[1, 2, 3], \n",
    "           [4, 5, 6]]\n",
    "\n",
    "matrix2 = [[7, 8, 9], \n",
    "           [10, 11, 12],\n",
    "           [3, 5, 7]]\n",
    "\n",
    "my_matrix1 = Matrix(matrix1)\n",
    "my_matrix2 = Matrix(matrix2)\n",
    "\n",
    "result_matrix = my_matrix1 * my_matrix2\n",
    "print(\"Умножение матриц (через Matrix):\")\n",
    "for row in result_matrix.matrix:\n",
    "    print(row)\n",
    "\n",
    "number = 2\n",
    "_result_matrix = my_matrix1 * 2\n",
    "print(f\"Умножение матрицы {matrix1} на число {number} (через Matrix):\") #ВОТ ТУТ МОЖНО ПОСТАВИТЬ ЧИСЛО ВМЕСТО МАТРИЦЫ И БУДЕТ ТЕБЕ УМНОЖЕНИЕ НА ЧИСЛО\n",
    "for row in _result_matrix.matrix:\n",
    "    print(row)\n",
    "\n",
    "np_matrix1 = np.array(matrix1)\n",
    "np_matrix2 = np.array(matrix2)\n",
    "\n",
    "np_result_matrix = np_matrix1 @ np_matrix2\n",
    "print(\"Умножение матриц (через NumPy):\")\n",
    "for row in np_result_matrix:\n",
    "    print(row)"
   ]
  }
 ],
 "metadata": {
  "kernelspec": {
   "display_name": "Python 3",
   "language": "python",
   "name": "python3"
  },
  "language_info": {
   "codemirror_mode": {
    "name": "ipython",
    "version": 3
   },
   "file_extension": ".py",
   "mimetype": "text/x-python",
   "name": "python",
   "nbconvert_exporter": "python",
   "pygments_lexer": "ipython3",
   "version": "3.11.5"
  },
  "orig_nbformat": 4
 },
 "nbformat": 4,
 "nbformat_minor": 2
}

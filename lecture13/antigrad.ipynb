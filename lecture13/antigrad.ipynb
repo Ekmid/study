{
 "cells": [
  {
   "cell_type": "code",
   "execution_count": 1,
   "metadata": {},
   "outputs": [
    {
     "name": "stdout",
     "output_type": "stream",
     "text": [
      "Note: you may need to restart the kernel to use updated packages.\n"
     ]
    }
   ],
   "source": [
    "%pip install -q sympy"
   ]
  },
  {
   "cell_type": "code",
   "execution_count": 2,
   "metadata": {},
   "outputs": [],
   "source": [
    "import sympy as sp"
   ]
  },
  {
   "cell_type": "code",
   "execution_count": 26,
   "metadata": {},
   "outputs": [
    {
     "data": {
      "text/latex": [
       "$\\displaystyle x$"
      ],
      "text/plain": [
       "x"
      ]
     },
     "execution_count": 26,
     "metadata": {},
     "output_type": "execute_result"
    }
   ],
   "source": [
    "x = sp.symbols('x')\n",
    "x"
   ]
  },
  {
   "cell_type": "code",
   "execution_count": 9,
   "metadata": {},
   "outputs": [
    {
     "data": {
      "text/latex": [
       "$\\displaystyle \\left(x - 10\\right)^{2}$"
      ],
      "text/plain": [
       "(x - 10)**2"
      ]
     },
     "execution_count": 9,
     "metadata": {},
     "output_type": "execute_result"
    }
   ],
   "source": [
    "equation = (x-10)**2\n",
    "equation"
   ]
  },
  {
   "cell_type": "code",
   "execution_count": 25,
   "metadata": {},
   "outputs": [
    {
     "data": {
      "text/plain": [
       "sympy.core.add.Add"
      ]
     },
     "execution_count": 25,
     "metadata": {},
     "output_type": "execute_result"
    }
   ],
   "source": [
    "diff = sp.diff(equation)\n",
    "type(diff)"
   ]
  },
  {
   "cell_type": "code",
   "execution_count": 45,
   "metadata": {},
   "outputs": [],
   "source": [
    "def antigrad(x):\n",
    "    return 2 * x - 20"
   ]
  },
  {
   "cell_type": "code",
   "execution_count": 48,
   "metadata": {},
   "outputs": [
    {
     "name": "stdout",
     "output_type": "stream",
     "text": [
      "x0 = 0\n",
      "x1 = 2.0\n",
      "x2 = 3.6\n",
      "x3 = 4.880000000000001\n",
      "x4 = 5.904000000000001\n",
      "x5 = 6.7232\n",
      "x6 = 7.37856\n",
      "x7 = 7.9028480000000005\n",
      "x8 = 8.3222784\n",
      "x9 = 8.65782272\n",
      "x10 = 8.926258176000001\n",
      "x11 = 9.141006540800001\n",
      "x12 = 9.31280523264\n",
      "x13 = 9.450244186112\n",
      "x14 = 9.5601953488896\n",
      "x15 = 9.64815627911168\n",
      "x16 = 9.718525023289343\n",
      "x17 = 9.774820018631475\n",
      "x18 = 9.81985601490518\n",
      "x19 = 9.855884811924145\n",
      "x20 = 9.884707849539316\n",
      "x21 = 9.907766279631453\n",
      "x22 = 9.926213023705163\n",
      "x23 = 9.940970418964131\n",
      "x24 = 9.952776335171304\n",
      "x25 = 9.962221068137044\n",
      "x26 = 9.969776854509636\n",
      "x27 = 9.975821483607708\n",
      "x28 = 9.980657186886166\n",
      "x29 = 9.984525749508933\n",
      "x30 = 9.987620599607146\n"
     ]
    }
   ],
   "source": [
    "x = 0\n",
    "lr = 0.1\n",
    "print(f\"x0 = {x}\")\n",
    "for i in range(30):\n",
    "    x = x - lr * antigrad(x)\n",
    "    print(f\"x{i+1} = {x}\")"
   ]
  }
 ],
 "metadata": {
  "kernelspec": {
   "display_name": "Python 3",
   "language": "python",
   "name": "python3"
  },
  "language_info": {
   "codemirror_mode": {
    "name": "ipython",
    "version": 3
   },
   "file_extension": ".py",
   "mimetype": "text/x-python",
   "name": "python",
   "nbconvert_exporter": "python",
   "pygments_lexer": "ipython3",
   "version": "3.11.6"
  }
 },
 "nbformat": 4,
 "nbformat_minor": 2
}

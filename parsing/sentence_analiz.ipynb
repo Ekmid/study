{
 "cells": [
  {
   "cell_type": "code",
   "execution_count": null,
   "metadata": {},
   "outputs": [],
   "source": [
    "%pip install -q nltk\n",
    "import nltk\n",
    "nltk.download('punkt')\n",
    "nltk.download('averaged_perceptron_tagger')\n",
    "nltk.download('wordnet')"
   ]
  },
  {
   "cell_type": "code",
   "execution_count": 25,
   "metadata": {},
   "outputs": [
    {
     "name": "stdout",
     "output_type": "stream",
     "text": [
      "(S\n",
      "  There/EX\n",
      "  is/VBZ\n",
      "  floating/VBG\n",
      "  (NP a/DT brick/NN)\n",
      "  from/IN\n",
      "  (NP the/DT town/NN)\n",
      "  of/IN\n",
      "  Byron/NNP)\n"
     ]
    }
   ],
   "source": [
    "sentence = \"There is floating a brick from the town of Byron\"\n",
    "tokenized = nltk.tokenize.NLTKWordTokenizer().tokenize(sentence)\n",
    "tagged = nltk.pos_tag(tokenized)\n",
    "grammar = \"NP:{<DT>?<JJ>*<NN>}\"\n",
    "reg_parser = nltk.RegexpParser(grammar)\n",
    "res = reg_parser.parse(tagged)\n",
    "print(res)"
   ]
  }
 ],
 "metadata": {
  "kernelspec": {
   "display_name": "Python 3",
   "language": "python",
   "name": "python3"
  },
  "language_info": {
   "codemirror_mode": {
    "name": "ipython",
    "version": 3
   },
   "file_extension": ".py",
   "mimetype": "text/x-python",
   "name": "python",
   "nbconvert_exporter": "python",
   "pygments_lexer": "ipython3",
   "version": "3.11.6"
  }
 },
 "nbformat": 4,
 "nbformat_minor": 2
}

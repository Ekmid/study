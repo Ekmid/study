{
  "cells": [
    {
      "cell_type": "markdown",
      "metadata": {
        "id": "HBE2ssAQvGSS"
      },
      "source": [
        "# Cинтаксический анализ текста\n",
        "\n",
        "Синтаксический анализ текста на русском языке с использованием библиотек:\n",
        "- [spaCy](https://spacy.io).\n",
        "- [Natasha](https://github.com/natasha/natasha)."
      ]
    },
    {
      "cell_type": "code",
      "execution_count": 8,
      "metadata": {},
      "outputs": [
        {
          "name": "stdout",
          "output_type": "stream",
          "text": [
            "Note: you may need to restart the kernel to use updated packages.\n"
          ]
        },
        {
          "name": "stderr",
          "output_type": "stream",
          "text": [
            "\n",
            "[notice] A new release of pip is available: 23.2.1 -> 23.3\n",
            "[notice] To update, run: C:\\Users\\Мирославик\\AppData\\Local\\Microsoft\\WindowsApps\\PythonSoftwareFoundation.Python.3.11_qbz5n2kfra8p0\\python.exe -m pip install --upgrade pip\n"
          ]
        }
      ],
      "source": [
        "%pip install -q spacy"
      ]
    },
    {
      "cell_type": "code",
      "execution_count": 9,
      "metadata": {
        "id": "DY_j80Ti4ijh"
      },
      "outputs": [],
      "source": [
        "import spacy\n",
        "from spacy import displacy"
      ]
    },
    {
      "cell_type": "markdown",
      "metadata": {
        "id": "4W1WXu_KJqF3"
      },
      "source": [
        "## Библиотека spaCy\n",
        "python -m spacy download ru_core_news_sm"
      ]
    },
    {
      "cell_type": "code",
      "execution_count": 10,
      "metadata": {
        "id": "jtCrjk_H41bI"
      },
      "outputs": [],
      "source": [
        "nlp = spacy.load('ru_core_news_sm')"
      ]
    },
    {
      "cell_type": "code",
      "execution_count": 11,
      "metadata": {
        "id": "I0jIJaWA42qS"
      },
      "outputs": [],
      "source": [
        "text = 'Заботливая мама любит сына и своего мужа красавчика'"
      ]
    },
    {
      "cell_type": "code",
      "execution_count": 12,
      "metadata": {
        "id": "cYRqhqv94yo-"
      },
      "outputs": [],
      "source": [
        "doc = nlp(text)"
      ]
    },
    {
      "cell_type": "code",
      "execution_count": 13,
      "metadata": {
        "colab": {
          "base_uri": "https://localhost:8080/"
        },
        "id": "acNtfzIK49CI",
        "outputId": "5d58e814-1c25-4753-847a-46e7554d44c2"
      },
      "outputs": [
        {
          "name": "stdout",
          "output_type": "stream",
          "text": [
            "Заботливая ADJ amod\n",
            "мама NOUN nsubj\n",
            "любит VERB ROOT\n",
            "сына NOUN obj\n",
            "и CCONJ cc\n",
            "своего DET det\n",
            "мужа NOUN conj\n",
            "красавчика PROPN obj\n"
          ]
        }
      ],
      "source": [
        "for token in doc:\n",
        "    print(token.text, token.pos_, token.dep_)"
      ]
    },
    {
      "cell_type": "code",
      "execution_count": 14,
      "metadata": {
        "colab": {
          "base_uri": "https://localhost:8080/",
          "height": 441
        },
        "id": "JrXoY9rP5Kph",
        "outputId": "a50e9656-99ba-48b6-d482-87dc4120178e"
      },
      "outputs": [
        {
          "data": {
            "text/html": [
              "<span class=\"tex2jax_ignore\"><svg xmlns=\"http://www.w3.org/2000/svg\" xmlns:xlink=\"http://www.w3.org/1999/xlink\" xml:lang=\"ru\" id=\"130ef2697c914b90ad38412f1fdb08e6-0\" class=\"displacy\" width=\"1450\" height=\"487.0\" direction=\"ltr\" style=\"max-width: none; height: 487.0px; color: #000000; background: #ffffff; font-family: Arial; direction: ltr\">\n",
              "<text class=\"displacy-token\" fill=\"currentColor\" text-anchor=\"middle\" y=\"397.0\">\n",
              "    <tspan class=\"displacy-word\" fill=\"currentColor\" x=\"50\">Заботливая</tspan>\n",
              "    <tspan class=\"displacy-tag\" dy=\"2em\" fill=\"currentColor\" x=\"50\">ADJ</tspan>\n",
              "</text>\n",
              "\n",
              "<text class=\"displacy-token\" fill=\"currentColor\" text-anchor=\"middle\" y=\"397.0\">\n",
              "    <tspan class=\"displacy-word\" fill=\"currentColor\" x=\"225\">мама</tspan>\n",
              "    <tspan class=\"displacy-tag\" dy=\"2em\" fill=\"currentColor\" x=\"225\">NOUN</tspan>\n",
              "</text>\n",
              "\n",
              "<text class=\"displacy-token\" fill=\"currentColor\" text-anchor=\"middle\" y=\"397.0\">\n",
              "    <tspan class=\"displacy-word\" fill=\"currentColor\" x=\"400\">любит</tspan>\n",
              "    <tspan class=\"displacy-tag\" dy=\"2em\" fill=\"currentColor\" x=\"400\">VERB</tspan>\n",
              "</text>\n",
              "\n",
              "<text class=\"displacy-token\" fill=\"currentColor\" text-anchor=\"middle\" y=\"397.0\">\n",
              "    <tspan class=\"displacy-word\" fill=\"currentColor\" x=\"575\">сына</tspan>\n",
              "    <tspan class=\"displacy-tag\" dy=\"2em\" fill=\"currentColor\" x=\"575\">NOUN</tspan>\n",
              "</text>\n",
              "\n",
              "<text class=\"displacy-token\" fill=\"currentColor\" text-anchor=\"middle\" y=\"397.0\">\n",
              "    <tspan class=\"displacy-word\" fill=\"currentColor\" x=\"750\">и</tspan>\n",
              "    <tspan class=\"displacy-tag\" dy=\"2em\" fill=\"currentColor\" x=\"750\">CCONJ</tspan>\n",
              "</text>\n",
              "\n",
              "<text class=\"displacy-token\" fill=\"currentColor\" text-anchor=\"middle\" y=\"397.0\">\n",
              "    <tspan class=\"displacy-word\" fill=\"currentColor\" x=\"925\">своего</tspan>\n",
              "    <tspan class=\"displacy-tag\" dy=\"2em\" fill=\"currentColor\" x=\"925\">DET</tspan>\n",
              "</text>\n",
              "\n",
              "<text class=\"displacy-token\" fill=\"currentColor\" text-anchor=\"middle\" y=\"397.0\">\n",
              "    <tspan class=\"displacy-word\" fill=\"currentColor\" x=\"1100\">мужа</tspan>\n",
              "    <tspan class=\"displacy-tag\" dy=\"2em\" fill=\"currentColor\" x=\"1100\">NOUN</tspan>\n",
              "</text>\n",
              "\n",
              "<text class=\"displacy-token\" fill=\"currentColor\" text-anchor=\"middle\" y=\"397.0\">\n",
              "    <tspan class=\"displacy-word\" fill=\"currentColor\" x=\"1275\">красавчика</tspan>\n",
              "    <tspan class=\"displacy-tag\" dy=\"2em\" fill=\"currentColor\" x=\"1275\">PROPN</tspan>\n",
              "</text>\n",
              "\n",
              "<g class=\"displacy-arrow\">\n",
              "    <path class=\"displacy-arc\" id=\"arrow-130ef2697c914b90ad38412f1fdb08e6-0-0\" stroke-width=\"2px\" d=\"M70,352.0 C70,264.5 210.0,264.5 210.0,352.0\" fill=\"none\" stroke=\"currentColor\"/>\n",
              "    <text dy=\"1.25em\" style=\"font-size: 0.8em; letter-spacing: 1px\">\n",
              "        <textPath xlink:href=\"#arrow-130ef2697c914b90ad38412f1fdb08e6-0-0\" class=\"displacy-label\" startOffset=\"50%\" side=\"left\" fill=\"currentColor\" text-anchor=\"middle\">amod</textPath>\n",
              "    </text>\n",
              "    <path class=\"displacy-arrowhead\" d=\"M70,354.0 L62,342.0 78,342.0\" fill=\"currentColor\"/>\n",
              "</g>\n",
              "\n",
              "<g class=\"displacy-arrow\">\n",
              "    <path class=\"displacy-arc\" id=\"arrow-130ef2697c914b90ad38412f1fdb08e6-0-1\" stroke-width=\"2px\" d=\"M245,352.0 C245,264.5 385.0,264.5 385.0,352.0\" fill=\"none\" stroke=\"currentColor\"/>\n",
              "    <text dy=\"1.25em\" style=\"font-size: 0.8em; letter-spacing: 1px\">\n",
              "        <textPath xlink:href=\"#arrow-130ef2697c914b90ad38412f1fdb08e6-0-1\" class=\"displacy-label\" startOffset=\"50%\" side=\"left\" fill=\"currentColor\" text-anchor=\"middle\">nsubj</textPath>\n",
              "    </text>\n",
              "    <path class=\"displacy-arrowhead\" d=\"M245,354.0 L237,342.0 253,342.0\" fill=\"currentColor\"/>\n",
              "</g>\n",
              "\n",
              "<g class=\"displacy-arrow\">\n",
              "    <path class=\"displacy-arc\" id=\"arrow-130ef2697c914b90ad38412f1fdb08e6-0-2\" stroke-width=\"2px\" d=\"M420,352.0 C420,264.5 560.0,264.5 560.0,352.0\" fill=\"none\" stroke=\"currentColor\"/>\n",
              "    <text dy=\"1.25em\" style=\"font-size: 0.8em; letter-spacing: 1px\">\n",
              "        <textPath xlink:href=\"#arrow-130ef2697c914b90ad38412f1fdb08e6-0-2\" class=\"displacy-label\" startOffset=\"50%\" side=\"left\" fill=\"currentColor\" text-anchor=\"middle\">obj</textPath>\n",
              "    </text>\n",
              "    <path class=\"displacy-arrowhead\" d=\"M560.0,354.0 L568.0,342.0 552.0,342.0\" fill=\"currentColor\"/>\n",
              "</g>\n",
              "\n",
              "<g class=\"displacy-arrow\">\n",
              "    <path class=\"displacy-arc\" id=\"arrow-130ef2697c914b90ad38412f1fdb08e6-0-3\" stroke-width=\"2px\" d=\"M770,352.0 C770,177.0 1090.0,177.0 1090.0,352.0\" fill=\"none\" stroke=\"currentColor\"/>\n",
              "    <text dy=\"1.25em\" style=\"font-size: 0.8em; letter-spacing: 1px\">\n",
              "        <textPath xlink:href=\"#arrow-130ef2697c914b90ad38412f1fdb08e6-0-3\" class=\"displacy-label\" startOffset=\"50%\" side=\"left\" fill=\"currentColor\" text-anchor=\"middle\">cc</textPath>\n",
              "    </text>\n",
              "    <path class=\"displacy-arrowhead\" d=\"M770,354.0 L762,342.0 778,342.0\" fill=\"currentColor\"/>\n",
              "</g>\n",
              "\n",
              "<g class=\"displacy-arrow\">\n",
              "    <path class=\"displacy-arc\" id=\"arrow-130ef2697c914b90ad38412f1fdb08e6-0-4\" stroke-width=\"2px\" d=\"M945,352.0 C945,264.5 1085.0,264.5 1085.0,352.0\" fill=\"none\" stroke=\"currentColor\"/>\n",
              "    <text dy=\"1.25em\" style=\"font-size: 0.8em; letter-spacing: 1px\">\n",
              "        <textPath xlink:href=\"#arrow-130ef2697c914b90ad38412f1fdb08e6-0-4\" class=\"displacy-label\" startOffset=\"50%\" side=\"left\" fill=\"currentColor\" text-anchor=\"middle\">det</textPath>\n",
              "    </text>\n",
              "    <path class=\"displacy-arrowhead\" d=\"M945,354.0 L937,342.0 953,342.0\" fill=\"currentColor\"/>\n",
              "</g>\n",
              "\n",
              "<g class=\"displacy-arrow\">\n",
              "    <path class=\"displacy-arc\" id=\"arrow-130ef2697c914b90ad38412f1fdb08e6-0-5\" stroke-width=\"2px\" d=\"M595,352.0 C595,89.5 1095.0,89.5 1095.0,352.0\" fill=\"none\" stroke=\"currentColor\"/>\n",
              "    <text dy=\"1.25em\" style=\"font-size: 0.8em; letter-spacing: 1px\">\n",
              "        <textPath xlink:href=\"#arrow-130ef2697c914b90ad38412f1fdb08e6-0-5\" class=\"displacy-label\" startOffset=\"50%\" side=\"left\" fill=\"currentColor\" text-anchor=\"middle\">conj</textPath>\n",
              "    </text>\n",
              "    <path class=\"displacy-arrowhead\" d=\"M1095.0,354.0 L1103.0,342.0 1087.0,342.0\" fill=\"currentColor\"/>\n",
              "</g>\n",
              "\n",
              "<g class=\"displacy-arrow\">\n",
              "    <path class=\"displacy-arc\" id=\"arrow-130ef2697c914b90ad38412f1fdb08e6-0-6\" stroke-width=\"2px\" d=\"M420,352.0 C420,2.0 1275.0,2.0 1275.0,352.0\" fill=\"none\" stroke=\"currentColor\"/>\n",
              "    <text dy=\"1.25em\" style=\"font-size: 0.8em; letter-spacing: 1px\">\n",
              "        <textPath xlink:href=\"#arrow-130ef2697c914b90ad38412f1fdb08e6-0-6\" class=\"displacy-label\" startOffset=\"50%\" side=\"left\" fill=\"currentColor\" text-anchor=\"middle\">obj</textPath>\n",
              "    </text>\n",
              "    <path class=\"displacy-arrowhead\" d=\"M1275.0,354.0 L1283.0,342.0 1267.0,342.0\" fill=\"currentColor\"/>\n",
              "</g>\n",
              "</svg></span>"
            ],
            "text/plain": [
              "<IPython.core.display.HTML object>"
            ]
          },
          "metadata": {},
          "output_type": "display_data"
        }
      ],
      "source": [
        "displacy.render(doc, style=\"dep\", jupyter=True)"
      ]
    },
    {
      "cell_type": "code",
      "execution_count": 71,
      "metadata": {},
      "outputs": [
        {
          "name": "stdout",
          "output_type": "stream",
          "text": [
            "We \t You \t nsubj nominal subject\n",
            "can \t must \t aux auxiliary\n",
            "overtake \t specify \t ROOT root\n",
            "them \t it \t dobj direct object\n"
          ]
        }
      ],
      "source": [
        "nlp = spacy.load('en_core_web_sm')\n",
        "doc1 = nlp(u'We can overtake them.')\n",
        "doc2 = nlp(u'You must specify it.')\n",
        "for i in range(len(doc1)-1):\n",
        "    if doc1[i].dep_ == doc2[i].dep_:\n",
        "        print(doc1[i].text,'\\t', doc2[i].text, '\\t', doc1[i].dep_, spacy.explain(doc1[i].dep_))"
      ]
    },
    {
      "cell_type": "markdown",
      "metadata": {
        "id": "c0trYWfOJzG8"
      },
      "source": [
        "## Библиотека natasha"
      ]
    },
    {
      "cell_type": "code",
      "execution_count": 72,
      "metadata": {
        "id": "TpTGxFhyvTQQ"
      },
      "outputs": [],
      "source": [
        "from natasha import Segmenter, NewsEmbedding, NewsSyntaxParser, Doc"
      ]
    },
    {
      "cell_type": "code",
      "execution_count": 73,
      "metadata": {
        "id": "M0q6yF0rvagE"
      },
      "outputs": [],
      "source": [
        "emb = NewsEmbedding()"
      ]
    },
    {
      "cell_type": "code",
      "execution_count": 74,
      "metadata": {
        "id": "mfDy99Ofwtdc"
      },
      "outputs": [],
      "source": [
        "segmenter = Segmenter()"
      ]
    },
    {
      "cell_type": "code",
      "execution_count": 75,
      "metadata": {
        "id": "_dMVIC81vja7"
      },
      "outputs": [],
      "source": [
        "syntax_parser = NewsSyntaxParser(emb)"
      ]
    },
    {
      "cell_type": "code",
      "execution_count": 84,
      "metadata": {
        "id": "45JzAE_bwCUX"
      },
      "outputs": [],
      "source": [
        "text = 'Владимир Смирнов застал Ахтема за игрой в настольный футбол на занятии'"
      ]
    },
    {
      "cell_type": "code",
      "execution_count": 85,
      "metadata": {
        "id": "RQGplpxdvmNU"
      },
      "outputs": [],
      "source": [
        "doc = Doc(text)"
      ]
    },
    {
      "cell_type": "code",
      "execution_count": 86,
      "metadata": {
        "id": "FzWE2Gmzwes1"
      },
      "outputs": [],
      "source": [
        "doc.segment(segmenter)"
      ]
    },
    {
      "cell_type": "code",
      "execution_count": 87,
      "metadata": {
        "colab": {
          "base_uri": "https://localhost:8080/"
        },
        "id": "gd80F2k_w1rN",
        "outputId": "2eb3484f-8176-4581-ff82-179944f3f0e4"
      },
      "outputs": [
        {
          "name": "stdout",
          "output_type": "stream",
          "text": [
            "DocToken(stop=8, text='Владимир')\n",
            "DocToken(start=9, stop=16, text='Смирнов')\n",
            "DocToken(start=17, stop=23, text='застал')\n",
            "DocToken(start=24, stop=30, text='Ахтема')\n",
            "DocToken(start=31, stop=33, text='за')\n",
            "DocToken(start=34, stop=39, text='игрой')\n",
            "DocToken(start=40, stop=41, text='в')\n",
            "DocToken(start=42, stop=52, text='настольный')\n",
            "DocToken(start=53, stop=59, text='футбол')\n",
            "DocToken(start=60, stop=62, text='на')\n",
            "DocToken(start=63, stop=70, text='занятии')\n"
          ]
        }
      ],
      "source": [
        "for tocken in doc.tokens:\n",
        "    print(tocken)"
      ]
    },
    {
      "cell_type": "code",
      "execution_count": 88,
      "metadata": {
        "id": "9J58CtxxwTXT"
      },
      "outputs": [],
      "source": [
        "doc.parse_syntax(syntax_parser)"
      ]
    },
    {
      "cell_type": "code",
      "execution_count": 89,
      "metadata": {
        "colab": {
          "base_uri": "https://localhost:8080/"
        },
        "id": "hL_GX8juxxo6",
        "outputId": "a7fc0df9-0957-4a14-a512-15aa056020dc"
      },
      "outputs": [
        {
          "name": "stdout",
          "output_type": "stream",
          "text": [
            "DocToken(stop=8, text='Владимир', id='1_1', head_id='1_3', rel='nsubj')\n",
            "DocToken(start=9, stop=16, text='Смирнов', id='1_2', head_id='1_1', rel='appos')\n",
            "DocToken(start=17, stop=23, text='застал', id='1_3', head_id='1_0', rel='root')\n",
            "DocToken(start=24, stop=30, text='Ахтема', id='1_4', head_id='1_3', rel='obj')\n",
            "DocToken(start=31, stop=33, text='за', id='1_5', head_id='1_6', rel='case')\n",
            "DocToken(start=34, stop=39, text='игрой', id='1_6', head_id='1_3', rel='obl')\n",
            "DocToken(start=40, stop=41, text='в', id='1_7', head_id='1_9', rel='case')\n",
            "DocToken(start=42, stop=52, text='настольный', id='1_8', head_id='1_9', rel='amod')\n",
            "DocToken(start=53, stop=59, text='футбол', id='1_9', head_id='1_3', rel='obl')\n",
            "DocToken(start=60, stop=62, text='на', id='1_10', head_id='1_11', rel='case')\n",
            "DocToken(start=63, stop=70, text='занятии', id='1_11', head_id='1_3', rel='obl')\n"
          ]
        }
      ],
      "source": [
        "for tocken in doc.tokens:\n",
        "    print(tocken)"
      ]
    },
    {
      "cell_type": "code",
      "execution_count": 90,
      "metadata": {
        "colab": {
          "base_uri": "https://localhost:8080/"
        },
        "id": "55zu8kF6xQrK",
        "outputId": "e1f3e292-8cf3-42ea-8d6c-145d8b8577a0"
      },
      "outputs": [
        {
          "name": "stdout",
          "output_type": "stream",
          "text": [
            "      ┌► Владимир   nsubj\n",
            "      │  Смирнов    \n",
            "┌─┌─┌─└─ застал     \n",
            "│ │ │ └► Ахтема     obj\n",
            "│ │ │ ┌► за         case\n",
            "│ │ └►└─ игрой      obl\n",
            "│ │ ┌──► в          case\n",
            "│ │ │ ┌► настольный amod\n",
            "│ └►└─└─ футбол     obl\n",
            "│     ┌► на         case\n",
            "└────►└─ занятии    obl\n"
          ]
        }
      ],
      "source": [
        "doc.sents[0].syntax.print()"
      ]
    }
  ],
  "metadata": {
    "colab": {
      "provenance": []
    },
    "kernelspec": {
      "display_name": "Python 3",
      "name": "python3"
    },
    "language_info": {
      "codemirror_mode": {
        "name": "ipython",
        "version": 3
      },
      "file_extension": ".py",
      "mimetype": "text/x-python",
      "name": "python",
      "nbconvert_exporter": "python",
      "pygments_lexer": "ipython3",
      "version": "3.11.6"
    }
  },
  "nbformat": 4,
  "nbformat_minor": 0
}

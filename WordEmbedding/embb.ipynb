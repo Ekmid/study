{
 "cells": [
  {
   "cell_type": "code",
   "execution_count": 20,
   "metadata": {},
   "outputs": [],
   "source": [
    "import gensim.downloader as api\n",
    "from nltk.tokenize import word_tokenize\n",
    "from nltk.corpus import stopwords"
   ]
  },
  {
   "cell_type": "markdown",
   "metadata": {},
   "source": [
    "РЕШИЛ ВЗЯТЬ ВОЙНУ И МИР, т.к. посчитал, что пьесы не особо сюда подойдут (как по объёму, так и по разнообразию слов)"
   ]
  },
  {
   "cell_type": "code",
   "execution_count": 22,
   "metadata": {},
   "outputs": [],
   "source": [
    "model = api.load(\"word2vec-google-news-300\")\n",
    "\n",
    "author_text = \"Tolstoy Leo. War and Peace - royallib.com.txt\"\n",
    "\n",
    "tokens = word_tokenize(author_text)\n",
    "\n",
    "stop_words = set(stopwords.words('english'))\n",
    "filtered_tokens = [word for word in tokens if word.lower() not in stop_words]\n",
    "\n",
    "word_vectors = [model.get_vector(word) for word in filtered_tokens if word in model.key_to_index]"
   ]
  },
  {
   "cell_type": "code",
   "execution_count": 44,
   "metadata": {},
   "outputs": [
    {
     "name": "stdout",
     "output_type": "stream",
     "text": [
      "[('queen', 0.7118193507194519)]\n"
     ]
    }
   ],
   "source": [
    "positive_words = ['woman', 'king']\n",
    "negative_words = ['man']\n",
    "\n",
    "similar_words = model.most_similar(positive=positive_words, negative=negative_words, topn=1)\n",
    "print(similar_words)\n",
    "\n",
    "#В параметре positive мы ищем слова, аналогичные \"женщина\" в контексте отношения \"король\"\n",
    "#В параметре negative слова, для которых хотим выполнить отрицание в контексте аналогии\n",
    "#КОРОЧЕ ГОВОРЯ, \"woman\" противопостовляется \"king\", и алгоритм ищет соответствующее противопоставление слову \"man\""
   ]
  },
  {
   "cell_type": "markdown",
   "metadata": {},
   "source": [
    "ЕЩЕ ПАРУ ПРИМЕРОВ"
   ]
  },
  {
   "cell_type": "code",
   "execution_count": 41,
   "metadata": {},
   "outputs": [
    {
     "name": "stdout",
     "output_type": "stream",
     "text": [
      "[('she', 0.8492251634597778), ('She', 0.6329933404922485), ('her', 0.602966845035553), ('herself', 0.5459702014923096), ('He', 0.536450207233429)]\n"
     ]
    }
   ],
   "source": [
    "positive_words = ['woman', 'he']\n",
    "negative_words = ['man']\n",
    "\n",
    "similar_words = model.most_similar(positive=positive_words, negative=negative_words, topn=5)\n",
    "print(similar_words)"
   ]
  },
  {
   "cell_type": "code",
   "execution_count": 42,
   "metadata": {},
   "outputs": [
    {
     "name": "stdout",
     "output_type": "stream",
     "text": [
      "[('he', 0.8211314678192139), ('She', 0.6126701831817627), ('He', 0.5821655988693237), ('him', 0.5703296065330505), ('her', 0.5565515160560608)]\n"
     ]
    }
   ],
   "source": [
    "positive_words = ['man', 'she']\n",
    "negative_words = ['woman']\n",
    "\n",
    "similar_words = model.most_similar(positive=positive_words, negative=negative_words, topn=5)\n",
    "print(similar_words)"
   ]
  },
  {
   "cell_type": "markdown",
   "metadata": {},
   "source": [
    "Как видно, есть неточность, однако стоит смотреть на accuracy, который как бы показывает нам, что узано правильно, а что нет \n",
    "    (первый вариант самый близкий получается, как видно из примеров)\n",
    "\n",
    "p.s.\n",
    "больше пар я не придумал)"
   ]
  }
 ],
 "metadata": {
  "kernelspec": {
   "display_name": "Python 3",
   "language": "python",
   "name": "python3"
  },
  "language_info": {
   "codemirror_mode": {
    "name": "ipython",
    "version": 3
   },
   "file_extension": ".py",
   "mimetype": "text/x-python",
   "name": "python",
   "nbconvert_exporter": "python",
   "pygments_lexer": "ipython3",
   "version": "3.11.5"
  }
 },
 "nbformat": 4,
 "nbformat_minor": 2
}

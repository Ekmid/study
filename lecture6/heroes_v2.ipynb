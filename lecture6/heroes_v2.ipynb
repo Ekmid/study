{
 "cells": [
  {
   "cell_type": "code",
   "execution_count": 50,
   "metadata": {},
   "outputs": [],
   "source": [
    "#Mixins\n",
    "\n",
    "class MixinFallable:\n",
    "    def fall(self):\n",
    "        print('Падаю')\n",
    "\n",
    "class MixinDusty:\n",
    "    def get_dusty(self):\n",
    "        print('Собираю пыль')\n",
    "\n",
    "class MixinTurningYellow:\n",
    "    def turning_yellow(self):\n",
    "        print('Желтею')\n",
    "\n",
    "class MixinJumpable:\n",
    "    def jump(self):\n",
    "        print('Прыгаю')\n",
    "        \n",
    "class MixinTalkable:\n",
    "    def talk(self):\n",
    "        print('Говорю')\n",
    "\n",
    "class MixinFunko(MixinFallable,\n",
    "                 MixinDusty,\n",
    "                 MixinTurningYellow):\n",
    "        pass\n",
    "\n",
    "class MixinPlayable(MixinTalkable,\n",
    "                    MixinJumpable,\n",
    "                    MixinFallable):\n",
    "        pass"
   ]
  },
  {
   "cell_type": "code",
   "execution_count": 51,
   "metadata": {},
   "outputs": [],
   "source": [
    "class Character:\n",
    "    def __init__(self, name, age):\n",
    "        self.name = name\n",
    "        self.age = age"
   ]
  },
  {
   "cell_type": "code",
   "execution_count": 52,
   "metadata": {},
   "outputs": [],
   "source": [
    "class HarryPotter(Character):\n",
    "    def __init__(self, name=\"Harry Potter\", age=11):\n",
    "        super().__init__(name, age)\n",
    "\n",
    "class Hagrid(Character):\n",
    "    def __init__(self, name=\"Hagrid\", age=60):\n",
    "        super().__init__(name, age)\n",
    "\n",
    "class Shrek(Character):\n",
    "    def __init__(self, name=\"Shrek\", age=30):\n",
    "        super().__init__(name, age)"
   ]
  },
  {
   "cell_type": "code",
   "execution_count": 53,
   "metadata": {},
   "outputs": [],
   "source": [
    "class PlayableHarryPotter(HarryPotter, MixinPlayable):\n",
    "    pass\n",
    "class FunkoHarryPotter(HarryPotter, MixinFunko):\n",
    "    pass"
   ]
  },
  {
   "cell_type": "code",
   "execution_count": 54,
   "metadata": {},
   "outputs": [],
   "source": [
    "class PlayableHagrid(Hagrid, MixinPlayable):\n",
    "    pass\n",
    "class FunkoHagrid(Hagrid, MixinFunko):\n",
    "    pass"
   ]
  },
  {
   "cell_type": "code",
   "execution_count": 55,
   "metadata": {},
   "outputs": [],
   "source": [
    "class PlayableShrek(Shrek, MixinPlayable):\n",
    "    pass\n",
    "class FunkoShrek(Shrek, MixinFunko):\n",
    "    pass"
   ]
  },
  {
   "cell_type": "code",
   "execution_count": 58,
   "metadata": {},
   "outputs": [
    {
     "name": "stdout",
     "output_type": "stream",
     "text": [
      "Прыгаю\n",
      "Собираю пыль\n"
     ]
    },
    {
     "ename": "AttributeError",
     "evalue": "'FunkoHagrid' object has no attribute 'talk'",
     "output_type": "error",
     "traceback": [
      "\u001b[1;31m---------------------------------------------------------------------------\u001b[0m",
      "\u001b[1;31mAttributeError\u001b[0m                            Traceback (most recent call last)",
      "\u001b[1;32mc:\\Users\\Broth\\OneDrive\\Рабочий стол\\study\\lecture6\\heroes_v2.ipynb Cell 7\u001b[0m line \u001b[0;36m7\n\u001b[0;32m      <a href='vscode-notebook-cell:/c%3A/Users/Broth/OneDrive/%D0%A0%D0%B0%D0%B1%D0%BE%D1%87%D0%B8%D0%B9%20%D1%81%D1%82%D0%BE%D0%BB/study/lecture6/heroes_v2.ipynb#X12sZmlsZQ%3D%3D?line=3'>4</a>\u001b[0m hero_hagrid\u001b[39m.\u001b[39mjump()\n\u001b[0;32m      <a href='vscode-notebook-cell:/c%3A/Users/Broth/OneDrive/%D0%A0%D0%B0%D0%B1%D0%BE%D1%87%D0%B8%D0%B9%20%D1%81%D1%82%D0%BE%D0%BB/study/lecture6/heroes_v2.ipynb#X12sZmlsZQ%3D%3D?line=4'>5</a>\u001b[0m toy_hagrid\u001b[39m.\u001b[39mget_dusty()\n\u001b[1;32m----> <a href='vscode-notebook-cell:/c%3A/Users/Broth/OneDrive/%D0%A0%D0%B0%D0%B1%D0%BE%D1%87%D0%B8%D0%B9%20%D1%81%D1%82%D0%BE%D0%BB/study/lecture6/heroes_v2.ipynb#X12sZmlsZQ%3D%3D?line=6'>7</a>\u001b[0m toy_hagrid\u001b[39m.\u001b[39;49mtalk()\n\u001b[0;32m      <a href='vscode-notebook-cell:/c%3A/Users/Broth/OneDrive/%D0%A0%D0%B0%D0%B1%D0%BE%D1%87%D0%B8%D0%B9%20%D1%81%D1%82%D0%BE%D0%BB/study/lecture6/heroes_v2.ipynb#X12sZmlsZQ%3D%3D?line=7'>8</a>\u001b[0m hero_hagrid\u001b[39m.\u001b[39mget_dusty()\n\u001b[0;32m      <a href='vscode-notebook-cell:/c%3A/Users/Broth/OneDrive/%D0%A0%D0%B0%D0%B1%D0%BE%D1%87%D0%B8%D0%B9%20%D1%81%D1%82%D0%BE%D0%BB/study/lecture6/heroes_v2.ipynb#X12sZmlsZQ%3D%3D?line=8'>9</a>\u001b[0m toy_hagrid\u001b[39m.\u001b[39mtalk()\n",
      "\u001b[1;31mAttributeError\u001b[0m: 'FunkoHagrid' object has no attribute 'talk'"
     ]
    }
   ],
   "source": [
    "hero_hagrid = PlayableHagrid()\n",
    "toy_hagrid = FunkoHagrid()\n",
    "\n",
    "hero_hagrid.jump() #Это срабатывает!\n",
    "toy_hagrid.get_dusty() #Это срабатывает!\n",
    "\n",
    "hero_hagrid.get_dusty() #Это не срабатывает!\n",
    "toy_hagrid.talk() #Это не срабатывает!"
   ]
  }
 ],
 "metadata": {
  "kernelspec": {
   "display_name": "Python 3",
   "language": "python",
   "name": "python3"
  },
  "language_info": {
   "codemirror_mode": {
    "name": "ipython",
    "version": 3
   },
   "file_extension": ".py",
   "mimetype": "text/x-python",
   "name": "python",
   "nbconvert_exporter": "python",
   "pygments_lexer": "ipython3",
   "version": "3.11.5"
  },
  "orig_nbformat": 4
 },
 "nbformat": 4,
 "nbformat_minor": 2
}

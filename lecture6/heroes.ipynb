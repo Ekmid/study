{
 "cells": [
  {
   "cell_type": "code",
   "execution_count": 155,
   "metadata": {},
   "outputs": [],
   "source": [
    "class Hero:\n",
    "    hp: int | float = 50\n",
    "    stren: int | float = 1\n",
    "    agility: int | float = 1\n",
    "    intelligence: int | float = 1\n",
    "\n",
    "    def __init__(self,\n",
    "                hp: int | float,\n",
    "                stren: float | int,\n",
    "                agility: float | int,\n",
    "                intelligence: float | int\n",
    "    ):\n",
    "        self.hp = hp\n",
    "        self.stren = stren\n",
    "        self.agility = agility\n",
    "        self.intelligence = intelligence\n",
    "\n",
    "    def hit(self, stren):\n",
    "        print(f'Я нанес {stren} урона ударом врагу')\n",
    "    \n",
    "    def evaid(self, agility):\n",
    "        print(f'Я увернулся от {agility} урона врага')\n",
    "\n",
    "    def magic(self, intelligence):\n",
    "        print(f'Я нанес {intelligence} магического урона')"
   ]
  },
  {
   "cell_type": "code",
   "execution_count": 156,
   "metadata": {},
   "outputs": [
    {
     "name": "stdout",
     "output_type": "stream",
     "text": [
      "Я нанес 10 урона ударом врагу\n"
     ]
    }
   ],
   "source": [
    "ork = Hero(50,10,2,1)\n",
    "ork.hit(10)"
   ]
  },
  {
   "cell_type": "code",
   "execution_count": 157,
   "metadata": {},
   "outputs": [],
   "source": [
    "class BadTeam(Hero):\n",
    "\n",
    "    color: str = 'Силы тьмы'\n",
    "\n",
    "class GoodTeam(Hero):\n",
    "\n",
    "    color: str = 'Силы света'\n"
   ]
  },
  {
   "cell_type": "code",
   "execution_count": 158,
   "metadata": {},
   "outputs": [],
   "source": [
    "class DarkWizzard(BadTeam):\n",
    "    stren: int | float = 10\n",
    "    agility: int | float = 2\n",
    "    intelligence: int | float = 1\n",
    "\n",
    "    def ult(self):\n",
    "        print(\"**ВЖУХ** ЧЕРНАЯ МАГИЯ УОКШУФОШУШЙ!!!\")\n",
    "\n",
    "class WhiteWizzard(GoodTeam):\n",
    "    stren: int | float = 2\n",
    "    agility: int | float = 3\n",
    "    intelligence: int | float = 10\n",
    "\n",
    "    def ult(self):\n",
    "        print(\"**ВЖУХ** ВЫЗЫВАЮ СВЕТЛЫЕ СИЛЫ ВЩАВОШАВА!!!\")"
   ]
  },
  {
   "cell_type": "code",
   "execution_count": 159,
   "metadata": {},
   "outputs": [
    {
     "name": "stdout",
     "output_type": "stream",
     "text": [
      "**ВЖУХ** ВЫЗЫВАЮ СВЕТЛЫЕ СИЛЫ ВЩАВОШАВА!!!\n",
      "------------------------------\n",
      "**ВЖУХ** ЧЕРНАЯ МАГИЯ УОКШУФОШУШЙ!!!\n"
     ]
    }
   ],
   "source": [
    "Dambldor = white_wizzard(10,10,10,10)\n",
    "Dambldor.ult()\n",
    "print('-' * 30)\n",
    "Volandemort = dark_wizzard(10,10,10,10)\n",
    "Volandemort.ult()"
   ]
  }
 ],
 "metadata": {
  "kernelspec": {
   "display_name": "Python 3",
   "language": "python",
   "name": "python3"
  },
  "language_info": {
   "codemirror_mode": {
    "name": "ipython",
    "version": 3
   },
   "file_extension": ".py",
   "mimetype": "text/x-python",
   "name": "python",
   "nbconvert_exporter": "python",
   "pygments_lexer": "ipython3",
   "version": "3.11.5"
  },
  "orig_nbformat": 4
 },
 "nbformat": 4,
 "nbformat_minor": 2
}

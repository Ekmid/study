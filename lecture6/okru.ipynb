{
 "cells": [
  {
   "cell_type": "code",
   "execution_count": 94,
   "metadata": {},
   "outputs": [],
   "source": [
    "class Human:\n",
    "\n",
    "    weight: float | int = 80\n",
    "    height: float | int = 170\n",
    "    name: str | None = None\n",
    "\n",
    "    def __init__(self,\n",
    "            weight: float | int,\n",
    "            height: float | int,\n",
    "            name: str | None\n",
    "    ):\n",
    "        self.weight = weight\n",
    "        self.height = height\n",
    "        self.name = name\n",
    "\n",
    "    def walk(self, speed: float = 1.0):\n",
    "        print(\"Я иду со скоростью\", speed)\n",
    "\n",
    "    def run(self):\n",
    "        print(\"Я бегить\")\n",
    "\n",
    "    def breathe(self):\n",
    "        print(\"Я дышить\")\n"
   ]
  },
  {
   "cell_type": "code",
   "execution_count": 95,
   "metadata": {},
   "outputs": [],
   "source": [
    "vova1 = Human(\n",
    "    height=120,\n",
    "    weight=24,\n",
    "    name = 'Papa'\n",
    ")"
   ]
  },
  {
   "cell_type": "code",
   "execution_count": 96,
   "metadata": {},
   "outputs": [
    {
     "name": "stdout",
     "output_type": "stream",
     "text": [
      "Я иду со скоростью 3\n"
     ]
    },
    {
     "data": {
      "text/plain": [
       "'Vova'"
      ]
     },
     "execution_count": 96,
     "metadata": {},
     "output_type": "execute_result"
    }
   ],
   "source": [
    "vova1.walk(3)\n",
    "vova1.name = 'Vova'\n",
    "vova1.name"
   ]
  },
  {
   "cell_type": "code",
   "execution_count": 97,
   "metadata": {},
   "outputs": [],
   "source": [
    "Vova2 = Human(\n",
    "    height = 90,\n",
    "    weight = 220,\n",
    "    name = 'Vova'\n",
    ")"
   ]
  },
  {
   "cell_type": "code",
   "execution_count": 98,
   "metadata": {},
   "outputs": [],
   "source": [
    "class HumanWorker(Human):\n",
    "    def work():\n",
    "        print('Я работаю')\n",
    "    def run(self):\n",
    "        print('Ни маги бегит па складый')"
   ]
  },
  {
   "cell_type": "code",
   "execution_count": 99,
   "metadata": {},
   "outputs": [],
   "source": [
    "vova_worker1 = HumanWorker(\n",
    "    height=12,\n",
    "    weight=41,\n",
    "    name='Boba'\n",
    ")"
   ]
  },
  {
   "cell_type": "code",
   "execution_count": 100,
   "metadata": {},
   "outputs": [
    {
     "name": "stdout",
     "output_type": "stream",
     "text": [
      "Не могу бегит по скады\n"
     ]
    }
   ],
   "source": [
    "vova_worker1.run()"
   ]
  }
 ],
 "metadata": {
  "kernelspec": {
   "display_name": "Python 3",
   "language": "python",
   "name": "python3"
  },
  "language_info": {
   "codemirror_mode": {
    "name": "ipython",
    "version": 3
   },
   "file_extension": ".py",
   "mimetype": "text/x-python",
   "name": "python",
   "nbconvert_exporter": "python",
   "pygments_lexer": "ipython3",
   "version": "3.11.5"
  },
  "orig_nbformat": 4
 },
 "nbformat": 4,
 "nbformat_minor": 2
}
